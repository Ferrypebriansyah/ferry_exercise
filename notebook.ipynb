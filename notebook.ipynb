{
  "cells": [
    {
      "cell_type": "markdown",
      "metadata": {
        "id": "y7Jq6Oh4z7uf"
      },
      "source": [
        "# Sleep Health and Lifestyle"
      ]
    },
    {
      "cell_type": "markdown",
      "metadata": {
        "id": "mS4maY6zY7jj"
      },
      "source": [
        "## Pertanyaan Bisnis\n",
        "1. Apa saja jenis pekerjaan yang dilakukan oleh individu dalam kelompok umur yang memiliki langkah harian terendah dibandingkan dengan mereka yang berada dalam kelompok umur dengan langkah harian tertinggi?\n",
        "2. Apa saja jenis pekerjaan yang dilakukan oleh individu dalam kelompok umur yang memiliki rata-rata waktu tidur lebih dari rata-rata waktu tidur populasi?\n",
        "3. Apa kategori BMI yang paling banyak ditemukan di antara individu dengan pekerjaan di sektor kesehatan?\n",
        "4. Apa sektor pekerjaan yang memiliki proporsi tertinggi individu yang mengalami insomnia?\n",
        "5. Dari berbagai pekerjaan, yang manakah paling umum di antara individu dalam kategori \"Overweight\"?"
      ]
    },
    {
      "cell_type": "markdown",
      "metadata": {
        "id": "n4dq9n5p0AKc"
      },
      "source": [
        "## Import Library"
      ]
    },
    {
      "cell_type": "code",
      "execution_count": null,
      "metadata": {
        "id": "NxBtGQjMxFb8"
      },
      "outputs": [],
      "source": [
        "import pandas as pd\n",
        "import seaborn as sns\n",
        "import numpy as np\n",
        "import matplotlib.pyplot as plt\n",
        "import plotly.express as px\n",
        "import plotly.io as pio\n",
        "from sklearn.preprocessing import LabelEncoder\n",
        "import zipfile\n"
      ]
    },
    {
      "cell_type": "markdown",
      "metadata": {},
      "source": [
        "## Data Wragling"
      ]
    },
    {
      "cell_type": "markdown",
      "metadata": {},
      "source": [
        "### Gathering Data"
      ]
    },
    {
      "cell_type": "code",
      "execution_count": 4,
      "metadata": {},
      "outputs": [
        {
          "name": "stderr",
          "output_type": "stream",
          "text": [
            "  % Total    % Received % Xferd  Average Speed   Time    Time     Time  Current\n",
            "                                 Dload  Upload   Total   Spent    Left  Speed\n",
            "\n",
            "  0     0    0     0    0     0      0      0 --:--:-- --:--:-- --:--:--     0\n",
            "  0     0    0     0    0     0      0      0 --:--:-- --:--:-- --:--:--     0\n",
            "  0     0    0     0    0     0      0      0 --:--:-- --:--:-- --:--:--     0\n",
            "\n",
            "100  2604  100  2604    0     0   2708      0 --:--:-- --:--:-- --:--:--  2708\n"
          ]
        }
      ],
      "source": [
        "#!/bin/bash\n",
        "!curl -L -o Sleep_health_and_lifestyle_dataset.zip\\\n",
        "\"https://www.kaggle.com/api/v1/datasets/download/uom190346a/sleep-health-and-lifestyle-dataset\""
      ]
    },
    {
      "cell_type": "code",
      "execution_count": null,
      "metadata": {},
      "outputs": [],
      "source": [
        "with zipfile.ZipFile(r\"C:\\Users\\Ferry Pebriansyah\\Documents\\DBS\\elite\\Sleep_health_and_lifestyle_dataset.zip\", \"r\") as zip_ref:\n",
        "    zip_ref.extractall(\"dataset\")\n"
      ]
    },
    {
      "cell_type": "code",
      "execution_count": 6,
      "metadata": {
        "colab": {
          "base_uri": "https://localhost:8080/",
          "height": 258
        },
        "id": "9XlXyehixoR3",
        "outputId": "fea466ca-1b92-43af-b098-60ee47b41361"
      },
      "outputs": [
        {
          "data": {
            "text/html": [
              "<div>\n",
              "<style scoped>\n",
              "    .dataframe tbody tr th:only-of-type {\n",
              "        vertical-align: middle;\n",
              "    }\n",
              "\n",
              "    .dataframe tbody tr th {\n",
              "        vertical-align: top;\n",
              "    }\n",
              "\n",
              "    .dataframe thead th {\n",
              "        text-align: right;\n",
              "    }\n",
              "</style>\n",
              "<table border=\"1\" class=\"dataframe\">\n",
              "  <thead>\n",
              "    <tr style=\"text-align: right;\">\n",
              "      <th></th>\n",
              "      <th>Person ID</th>\n",
              "      <th>Gender</th>\n",
              "      <th>Age</th>\n",
              "      <th>Occupation</th>\n",
              "      <th>Sleep Duration</th>\n",
              "      <th>Quality of Sleep</th>\n",
              "      <th>Physical Activity Level</th>\n",
              "      <th>Stress Level</th>\n",
              "      <th>BMI Category</th>\n",
              "      <th>Blood Pressure</th>\n",
              "      <th>Heart Rate</th>\n",
              "      <th>Daily Steps</th>\n",
              "      <th>Sleep Disorder</th>\n",
              "    </tr>\n",
              "  </thead>\n",
              "  <tbody>\n",
              "    <tr>\n",
              "      <th>0</th>\n",
              "      <td>1</td>\n",
              "      <td>Male</td>\n",
              "      <td>27</td>\n",
              "      <td>Software Engineer</td>\n",
              "      <td>6.1</td>\n",
              "      <td>6</td>\n",
              "      <td>42</td>\n",
              "      <td>6</td>\n",
              "      <td>Overweight</td>\n",
              "      <td>126/83</td>\n",
              "      <td>77</td>\n",
              "      <td>4200</td>\n",
              "      <td>NaN</td>\n",
              "    </tr>\n",
              "    <tr>\n",
              "      <th>1</th>\n",
              "      <td>2</td>\n",
              "      <td>Male</td>\n",
              "      <td>28</td>\n",
              "      <td>Doctor</td>\n",
              "      <td>6.2</td>\n",
              "      <td>6</td>\n",
              "      <td>60</td>\n",
              "      <td>8</td>\n",
              "      <td>Normal</td>\n",
              "      <td>125/80</td>\n",
              "      <td>75</td>\n",
              "      <td>10000</td>\n",
              "      <td>NaN</td>\n",
              "    </tr>\n",
              "    <tr>\n",
              "      <th>2</th>\n",
              "      <td>3</td>\n",
              "      <td>Male</td>\n",
              "      <td>28</td>\n",
              "      <td>Doctor</td>\n",
              "      <td>6.2</td>\n",
              "      <td>6</td>\n",
              "      <td>60</td>\n",
              "      <td>8</td>\n",
              "      <td>Normal</td>\n",
              "      <td>125/80</td>\n",
              "      <td>75</td>\n",
              "      <td>10000</td>\n",
              "      <td>NaN</td>\n",
              "    </tr>\n",
              "    <tr>\n",
              "      <th>3</th>\n",
              "      <td>4</td>\n",
              "      <td>Male</td>\n",
              "      <td>28</td>\n",
              "      <td>Sales Representative</td>\n",
              "      <td>5.9</td>\n",
              "      <td>4</td>\n",
              "      <td>30</td>\n",
              "      <td>8</td>\n",
              "      <td>Obese</td>\n",
              "      <td>140/90</td>\n",
              "      <td>85</td>\n",
              "      <td>3000</td>\n",
              "      <td>Sleep Apnea</td>\n",
              "    </tr>\n",
              "    <tr>\n",
              "      <th>4</th>\n",
              "      <td>5</td>\n",
              "      <td>Male</td>\n",
              "      <td>28</td>\n",
              "      <td>Sales Representative</td>\n",
              "      <td>5.9</td>\n",
              "      <td>4</td>\n",
              "      <td>30</td>\n",
              "      <td>8</td>\n",
              "      <td>Obese</td>\n",
              "      <td>140/90</td>\n",
              "      <td>85</td>\n",
              "      <td>3000</td>\n",
              "      <td>Sleep Apnea</td>\n",
              "    </tr>\n",
              "  </tbody>\n",
              "</table>\n",
              "</div>"
            ],
            "text/plain": [
              "   Person ID Gender  Age            Occupation  Sleep Duration  \\\n",
              "0          1   Male   27     Software Engineer             6.1   \n",
              "1          2   Male   28                Doctor             6.2   \n",
              "2          3   Male   28                Doctor             6.2   \n",
              "3          4   Male   28  Sales Representative             5.9   \n",
              "4          5   Male   28  Sales Representative             5.9   \n",
              "\n",
              "   Quality of Sleep  Physical Activity Level  Stress Level BMI Category  \\\n",
              "0                 6                       42             6   Overweight   \n",
              "1                 6                       60             8       Normal   \n",
              "2                 6                       60             8       Normal   \n",
              "3                 4                       30             8        Obese   \n",
              "4                 4                       30             8        Obese   \n",
              "\n",
              "  Blood Pressure  Heart Rate  Daily Steps Sleep Disorder  \n",
              "0         126/83          77         4200            NaN  \n",
              "1         125/80          75        10000            NaN  \n",
              "2         125/80          75        10000            NaN  \n",
              "3         140/90          85         3000    Sleep Apnea  \n",
              "4         140/90          85         3000    Sleep Apnea  "
            ]
          },
          "execution_count": 6,
          "metadata": {},
          "output_type": "execute_result"
        }
      ],
      "source": [
        "df = pd.read_csv('dataset/Sleep_health_and_lifestyle_dataset.csv')\n",
        "df.head()"
      ]
    },
    {
      "cell_type": "markdown",
      "metadata": {
        "id": "2BJ6VcYr8xd1"
      },
      "source": [
        "**Insight**\n",
        "\n",
        "Dataset yang digunakan pada proyek ini merupakan data sintesis dan dapat di-download [di sini](https://www.kaggle.com/datasets/uom190346a/sleep-health-and-lifestyle-dataset). Dataset berisikan 374 baris data dan 13 kolom. Detail dari masing-masing kolom dapat diuraikan sebagai berikut:\n",
        "\n",
        "Atribut                 | Keterangan\n",
        "----------------------- | -----------------------------------------------------------------------------\n",
        "person_id               | Nomor unik untuk mengenali setiap orang.\n",
        "gender                  | Jenis kelamin orang tersebut (Laki-laki / Male atau Perempuan / Female).\n",
        "age                     | Usia orang dalam tahun.\n",
        "occupation              | Pekerjaan atau profesi yang dijalani oleh orang tersebut.\n",
        "sleep_duration          | Jumlah jam tidur yang didapat orang per hari.\n",
        "sleep_quality           | Penilaian subjektif tentang seberapa berkualitas tidurnya, dari 1 (tidak berkualitas) sampai 10 (sangat berkualitas).\n",
        "physical_activity_level  | Rata-rata menit yang dihabiskan untuk bergerak atau berolahraga setiap hari.\n",
        "stress_level            | Penilaian pribadi tentang seberapa stresnya orang tersebut, dari 1 (tidak stres) sampai 10 (sangat stres).\n",
        "bmi_category            | Kategori BMI orang tersebut, seperti:\n",
        "                        | - Berat Badan Kurang (Underweight)\n",
        "                        | - Normal (Normal)\n",
        "                        | - Kelebihan Berat Badan (Overweight)\n",
        "                        | - Obesitas (Obesity)\n",
        "blood_pressure          | Ukuran tekanan darah, ditulis sebagai tekanan sistolik di atas diastolik (misalnya, 120/80).\n",
        "heart_rate              | Detak jantung saat istirahat, diukur dalam hitungan per menit.\n",
        "daily_steps             | Jumlah langkah yang ditempuh orang setiap harinya.\n",
        "sleep_disorder          | Apakah orang tersebut mengalami gangguan tidur atau tidak, seperti:\n",
        "                        | - Tidak Ada (None)\n",
        "                        | - Insomnia\n",
        "                        | - Sleep Apnea\n",
        "\n",
        "\n",
        "\n",
        "\n"
      ]
    },
    {
      "cell_type": "markdown",
      "metadata": {
        "id": "AB2jzQfF_Pec"
      },
      "source": [
        "### Assessing Data"
      ]
    },
    {
      "cell_type": "markdown",
      "metadata": {
        "id": "gG9QQkAE_VdF"
      },
      "source": [
        "#### Check Data Summary"
      ]
    },
    {
      "cell_type": "code",
      "execution_count": 7,
      "metadata": {
        "colab": {
          "base_uri": "https://localhost:8080/"
        },
        "id": "eUptNSPkzCtH",
        "outputId": "059a1b64-55de-49b9-dd53-83f9aa8f9af5"
      },
      "outputs": [
        {
          "name": "stdout",
          "output_type": "stream",
          "text": [
            "<class 'pandas.core.frame.DataFrame'>\n",
            "RangeIndex: 374 entries, 0 to 373\n",
            "Data columns (total 13 columns):\n",
            " #   Column                   Non-Null Count  Dtype  \n",
            "---  ------                   --------------  -----  \n",
            " 0   Person ID                374 non-null    int64  \n",
            " 1   Gender                   374 non-null    object \n",
            " 2   Age                      374 non-null    int64  \n",
            " 3   Occupation               374 non-null    object \n",
            " 4   Sleep Duration           374 non-null    float64\n",
            " 5   Quality of Sleep         374 non-null    int64  \n",
            " 6   Physical Activity Level  374 non-null    int64  \n",
            " 7   Stress Level             374 non-null    int64  \n",
            " 8   BMI Category             374 non-null    object \n",
            " 9   Blood Pressure           374 non-null    object \n",
            " 10  Heart Rate               374 non-null    int64  \n",
            " 11  Daily Steps              374 non-null    int64  \n",
            " 12  Sleep Disorder           155 non-null    object \n",
            "dtypes: float64(1), int64(7), object(5)\n",
            "memory usage: 38.1+ KB\n"
          ]
        }
      ],
      "source": [
        "df.info()"
      ]
    },
    {
      "cell_type": "code",
      "execution_count": 8,
      "metadata": {
        "colab": {
          "base_uri": "https://localhost:8080/",
          "height": 457
        },
        "id": "Y5jH6g8K-HHh",
        "outputId": "5f9316d7-b0e9-4862-b2e0-2c168069cd8f"
      },
      "outputs": [
        {
          "data": {
            "text/html": [
              "<div>\n",
              "<style scoped>\n",
              "    .dataframe tbody tr th:only-of-type {\n",
              "        vertical-align: middle;\n",
              "    }\n",
              "\n",
              "    .dataframe tbody tr th {\n",
              "        vertical-align: top;\n",
              "    }\n",
              "\n",
              "    .dataframe thead th {\n",
              "        text-align: right;\n",
              "    }\n",
              "</style>\n",
              "<table border=\"1\" class=\"dataframe\">\n",
              "  <thead>\n",
              "    <tr style=\"text-align: right;\">\n",
              "      <th></th>\n",
              "      <th>count</th>\n",
              "      <th>unique</th>\n",
              "      <th>top</th>\n",
              "      <th>freq</th>\n",
              "      <th>mean</th>\n",
              "      <th>std</th>\n",
              "      <th>min</th>\n",
              "      <th>25%</th>\n",
              "      <th>50%</th>\n",
              "      <th>75%</th>\n",
              "      <th>max</th>\n",
              "    </tr>\n",
              "  </thead>\n",
              "  <tbody>\n",
              "    <tr>\n",
              "      <th>Person ID</th>\n",
              "      <td>374.0</td>\n",
              "      <td>NaN</td>\n",
              "      <td>NaN</td>\n",
              "      <td>NaN</td>\n",
              "      <td>187.5</td>\n",
              "      <td>108.108742</td>\n",
              "      <td>1.0</td>\n",
              "      <td>94.25</td>\n",
              "      <td>187.5</td>\n",
              "      <td>280.75</td>\n",
              "      <td>374.0</td>\n",
              "    </tr>\n",
              "    <tr>\n",
              "      <th>Gender</th>\n",
              "      <td>374</td>\n",
              "      <td>2</td>\n",
              "      <td>Male</td>\n",
              "      <td>189</td>\n",
              "      <td>NaN</td>\n",
              "      <td>NaN</td>\n",
              "      <td>NaN</td>\n",
              "      <td>NaN</td>\n",
              "      <td>NaN</td>\n",
              "      <td>NaN</td>\n",
              "      <td>NaN</td>\n",
              "    </tr>\n",
              "    <tr>\n",
              "      <th>Age</th>\n",
              "      <td>374.0</td>\n",
              "      <td>NaN</td>\n",
              "      <td>NaN</td>\n",
              "      <td>NaN</td>\n",
              "      <td>42.184492</td>\n",
              "      <td>8.673133</td>\n",
              "      <td>27.0</td>\n",
              "      <td>35.25</td>\n",
              "      <td>43.0</td>\n",
              "      <td>50.0</td>\n",
              "      <td>59.0</td>\n",
              "    </tr>\n",
              "    <tr>\n",
              "      <th>Occupation</th>\n",
              "      <td>374</td>\n",
              "      <td>11</td>\n",
              "      <td>Nurse</td>\n",
              "      <td>73</td>\n",
              "      <td>NaN</td>\n",
              "      <td>NaN</td>\n",
              "      <td>NaN</td>\n",
              "      <td>NaN</td>\n",
              "      <td>NaN</td>\n",
              "      <td>NaN</td>\n",
              "      <td>NaN</td>\n",
              "    </tr>\n",
              "    <tr>\n",
              "      <th>Sleep Duration</th>\n",
              "      <td>374.0</td>\n",
              "      <td>NaN</td>\n",
              "      <td>NaN</td>\n",
              "      <td>NaN</td>\n",
              "      <td>7.132086</td>\n",
              "      <td>0.795657</td>\n",
              "      <td>5.8</td>\n",
              "      <td>6.4</td>\n",
              "      <td>7.2</td>\n",
              "      <td>7.8</td>\n",
              "      <td>8.5</td>\n",
              "    </tr>\n",
              "    <tr>\n",
              "      <th>Quality of Sleep</th>\n",
              "      <td>374.0</td>\n",
              "      <td>NaN</td>\n",
              "      <td>NaN</td>\n",
              "      <td>NaN</td>\n",
              "      <td>7.312834</td>\n",
              "      <td>1.196956</td>\n",
              "      <td>4.0</td>\n",
              "      <td>6.0</td>\n",
              "      <td>7.0</td>\n",
              "      <td>8.0</td>\n",
              "      <td>9.0</td>\n",
              "    </tr>\n",
              "    <tr>\n",
              "      <th>Physical Activity Level</th>\n",
              "      <td>374.0</td>\n",
              "      <td>NaN</td>\n",
              "      <td>NaN</td>\n",
              "      <td>NaN</td>\n",
              "      <td>59.171123</td>\n",
              "      <td>20.830804</td>\n",
              "      <td>30.0</td>\n",
              "      <td>45.0</td>\n",
              "      <td>60.0</td>\n",
              "      <td>75.0</td>\n",
              "      <td>90.0</td>\n",
              "    </tr>\n",
              "    <tr>\n",
              "      <th>Stress Level</th>\n",
              "      <td>374.0</td>\n",
              "      <td>NaN</td>\n",
              "      <td>NaN</td>\n",
              "      <td>NaN</td>\n",
              "      <td>5.385027</td>\n",
              "      <td>1.774526</td>\n",
              "      <td>3.0</td>\n",
              "      <td>4.0</td>\n",
              "      <td>5.0</td>\n",
              "      <td>7.0</td>\n",
              "      <td>8.0</td>\n",
              "    </tr>\n",
              "    <tr>\n",
              "      <th>BMI Category</th>\n",
              "      <td>374</td>\n",
              "      <td>4</td>\n",
              "      <td>Normal</td>\n",
              "      <td>195</td>\n",
              "      <td>NaN</td>\n",
              "      <td>NaN</td>\n",
              "      <td>NaN</td>\n",
              "      <td>NaN</td>\n",
              "      <td>NaN</td>\n",
              "      <td>NaN</td>\n",
              "      <td>NaN</td>\n",
              "    </tr>\n",
              "    <tr>\n",
              "      <th>Blood Pressure</th>\n",
              "      <td>374</td>\n",
              "      <td>25</td>\n",
              "      <td>130/85</td>\n",
              "      <td>99</td>\n",
              "      <td>NaN</td>\n",
              "      <td>NaN</td>\n",
              "      <td>NaN</td>\n",
              "      <td>NaN</td>\n",
              "      <td>NaN</td>\n",
              "      <td>NaN</td>\n",
              "      <td>NaN</td>\n",
              "    </tr>\n",
              "    <tr>\n",
              "      <th>Heart Rate</th>\n",
              "      <td>374.0</td>\n",
              "      <td>NaN</td>\n",
              "      <td>NaN</td>\n",
              "      <td>NaN</td>\n",
              "      <td>70.165775</td>\n",
              "      <td>4.135676</td>\n",
              "      <td>65.0</td>\n",
              "      <td>68.0</td>\n",
              "      <td>70.0</td>\n",
              "      <td>72.0</td>\n",
              "      <td>86.0</td>\n",
              "    </tr>\n",
              "    <tr>\n",
              "      <th>Daily Steps</th>\n",
              "      <td>374.0</td>\n",
              "      <td>NaN</td>\n",
              "      <td>NaN</td>\n",
              "      <td>NaN</td>\n",
              "      <td>6816.84492</td>\n",
              "      <td>1617.915679</td>\n",
              "      <td>3000.0</td>\n",
              "      <td>5600.0</td>\n",
              "      <td>7000.0</td>\n",
              "      <td>8000.0</td>\n",
              "      <td>10000.0</td>\n",
              "    </tr>\n",
              "    <tr>\n",
              "      <th>Sleep Disorder</th>\n",
              "      <td>155</td>\n",
              "      <td>2</td>\n",
              "      <td>Sleep Apnea</td>\n",
              "      <td>78</td>\n",
              "      <td>NaN</td>\n",
              "      <td>NaN</td>\n",
              "      <td>NaN</td>\n",
              "      <td>NaN</td>\n",
              "      <td>NaN</td>\n",
              "      <td>NaN</td>\n",
              "      <td>NaN</td>\n",
              "    </tr>\n",
              "  </tbody>\n",
              "</table>\n",
              "</div>"
            ],
            "text/plain": [
              "                         count unique          top freq        mean  \\\n",
              "Person ID                374.0    NaN          NaN  NaN       187.5   \n",
              "Gender                     374      2         Male  189         NaN   \n",
              "Age                      374.0    NaN          NaN  NaN   42.184492   \n",
              "Occupation                 374     11        Nurse   73         NaN   \n",
              "Sleep Duration           374.0    NaN          NaN  NaN    7.132086   \n",
              "Quality of Sleep         374.0    NaN          NaN  NaN    7.312834   \n",
              "Physical Activity Level  374.0    NaN          NaN  NaN   59.171123   \n",
              "Stress Level             374.0    NaN          NaN  NaN    5.385027   \n",
              "BMI Category               374      4       Normal  195         NaN   \n",
              "Blood Pressure             374     25       130/85   99         NaN   \n",
              "Heart Rate               374.0    NaN          NaN  NaN   70.165775   \n",
              "Daily Steps              374.0    NaN          NaN  NaN  6816.84492   \n",
              "Sleep Disorder             155      2  Sleep Apnea   78         NaN   \n",
              "\n",
              "                                 std     min     25%     50%     75%      max  \n",
              "Person ID                 108.108742     1.0   94.25   187.5  280.75    374.0  \n",
              "Gender                           NaN     NaN     NaN     NaN     NaN      NaN  \n",
              "Age                         8.673133    27.0   35.25    43.0    50.0     59.0  \n",
              "Occupation                       NaN     NaN     NaN     NaN     NaN      NaN  \n",
              "Sleep Duration              0.795657     5.8     6.4     7.2     7.8      8.5  \n",
              "Quality of Sleep            1.196956     4.0     6.0     7.0     8.0      9.0  \n",
              "Physical Activity Level    20.830804    30.0    45.0    60.0    75.0     90.0  \n",
              "Stress Level                1.774526     3.0     4.0     5.0     7.0      8.0  \n",
              "BMI Category                     NaN     NaN     NaN     NaN     NaN      NaN  \n",
              "Blood Pressure                   NaN     NaN     NaN     NaN     NaN      NaN  \n",
              "Heart Rate                  4.135676    65.0    68.0    70.0    72.0     86.0  \n",
              "Daily Steps              1617.915679  3000.0  5600.0  7000.0  8000.0  10000.0  \n",
              "Sleep Disorder                   NaN     NaN     NaN     NaN     NaN      NaN  "
            ]
          },
          "execution_count": 8,
          "metadata": {},
          "output_type": "execute_result"
        }
      ],
      "source": [
        "df.describe(include='all').T"
      ]
    },
    {
      "cell_type": "markdown",
      "metadata": {},
      "source": [
        "**Insight**:\n",
        "\n",
        "- Terdapat 2 kategori `Gender`.\n",
        "- Rentang `Age` dalam dataset ini adalah dari 27 tahun hingga 59 tahun dengan rata-rata Usia 42 tahun.\n",
        "- Terdapat 11 jenis `Occupation` atau pekerjaan yang didominasi oleh `Nurse`.\n",
        "- Rata-rata `Sleep Duration` atau durasi tidur adalah 7.13 jam per malam.\n",
        "- Rata-rata `Physical Activity Level` aktivitas fisik 59.17 menit setiap harinya.\n",
        "- Terdapat 4  `BMI Category` dengan mayoritas responden dalam kategori Normal.\n",
        "\n"
      ]
    },
    {
      "cell_type": "markdown",
      "metadata": {
        "id": "GbVYE8R1DTdL"
      },
      "source": [
        "#### Check Unique Values"
      ]
    },
    {
      "cell_type": "code",
      "execution_count": 9,
      "metadata": {
        "colab": {
          "base_uri": "https://localhost:8080/"
        },
        "id": "KBeT_P0-DVJp",
        "outputId": "93aad2c8-2ae7-41b8-a82b-034762acdecc"
      },
      "outputs": [
        {
          "name": "stdout",
          "output_type": "stream",
          "text": [
            "Gender\n",
            "Male      189\n",
            "Female    185\n",
            "Name: count, dtype: int64\n",
            "--------------------\n",
            "Occupation\n",
            "Nurse                   73\n",
            "Doctor                  71\n",
            "Engineer                63\n",
            "Lawyer                  47\n",
            "Teacher                 40\n",
            "Accountant              37\n",
            "Salesperson             32\n",
            "Scientist                4\n",
            "Software Engineer        4\n",
            "Sales Representative     2\n",
            "Manager                  1\n",
            "Name: count, dtype: int64\n",
            "--------------------\n",
            "BMI Category\n",
            "Normal           195\n",
            "Overweight       148\n",
            "Normal Weight     21\n",
            "Obese             10\n",
            "Name: count, dtype: int64\n",
            "--------------------\n",
            "Blood Pressure\n",
            "130/85    99\n",
            "140/95    65\n",
            "125/80    65\n",
            "120/80    45\n",
            "115/75    32\n",
            "135/90    27\n",
            "140/90     4\n",
            "125/82     4\n",
            "128/85     3\n",
            "132/87     3\n",
            "117/76     2\n",
            "130/86     2\n",
            "126/83     2\n",
            "119/77     2\n",
            "135/88     2\n",
            "128/84     2\n",
            "131/86     2\n",
            "139/91     2\n",
            "115/78     2\n",
            "129/84     2\n",
            "142/92     2\n",
            "118/75     2\n",
            "118/76     1\n",
            "122/80     1\n",
            "121/79     1\n",
            "Name: count, dtype: int64\n",
            "--------------------\n",
            "Sleep Disorder\n",
            "NaN            219\n",
            "Sleep Apnea     78\n",
            "Insomnia        77\n",
            "Name: count, dtype: int64\n",
            "--------------------\n"
          ]
        }
      ],
      "source": [
        "for col in df.select_dtypes(include=['object']).columns:\n",
        "    print(df[col].value_counts(dropna=False))\n",
        "    print(\"-\" * 20)"
      ]
    },
    {
      "cell_type": "markdown",
      "metadata": {
        "id": "8nqJ_7y-rLJ5"
      },
      "source": [
        "**Insight:**\n",
        "- Kolom `Blood Pressure` bisa dilakukan feature engineering untuk memisahkan nilai upper (sistolik) dan lower (diastolik) dari nilai lengkap tekanan darahnya.\n",
        "- Nampaknya nilai kosong dari kolom `Sleep Disorder` mengindikasikan bahwa orang tersebut tidak memiliki gangguan tidur.\n",
        "- Beberapa insight sebenarnya bisa coba digali dari output di atas, seperti proporsi antara pria dan wanita yang hampir seimbang. Namun, perlu diingat bahwa data di atas masih memiliki data kembar yang jumlahnya belum kita ketahui. Jadi, insightnya akan kita gali lebih dalam ketika datanya sudah bersih saja pada tahap EDA."
      ]
    },
    {
      "cell_type": "markdown",
      "metadata": {
        "id": "ktkeHv24_eSs"
      },
      "source": [
        "#### Check Missing Values"
      ]
    },
    {
      "cell_type": "code",
      "execution_count": 10,
      "metadata": {
        "colab": {
          "base_uri": "https://localhost:8080/",
          "height": 492
        },
        "id": "uJG1vkqk_llP",
        "outputId": "79b47cf8-64e3-4bc0-ab00-ce49da169d78"
      },
      "outputs": [
        {
          "data": {
            "text/plain": [
              "Person ID                    0\n",
              "Gender                       0\n",
              "Age                          0\n",
              "Occupation                   0\n",
              "Sleep Duration               0\n",
              "Quality of Sleep             0\n",
              "Physical Activity Level      0\n",
              "Stress Level                 0\n",
              "BMI Category                 0\n",
              "Blood Pressure               0\n",
              "Heart Rate                   0\n",
              "Daily Steps                  0\n",
              "Sleep Disorder             219\n",
              "dtype: int64"
            ]
          },
          "execution_count": 10,
          "metadata": {},
          "output_type": "execute_result"
        }
      ],
      "source": [
        "df.isnull().sum()"
      ]
    },
    {
      "cell_type": "markdown",
      "metadata": {
        "id": "M-uM-SporMXt"
      },
      "source": [
        "**Insight:**\n",
        "- Output ini merupakan kelanjutan dari pemeriksaan awal yang telah dilakukan dengan method `info()` sebelumnya.\n",
        "- Nampaknya jumlah nilai kosong dari kolom `Sleep Disorder` terbilang cukup tinggi yaitu 219 dari 374 data (58%)."
      ]
    },
    {
      "cell_type": "markdown",
      "metadata": {
        "id": "kYyiJMvoBAis"
      },
      "source": [
        "#### Check Duplicated Data"
      ]
    },
    {
      "cell_type": "code",
      "execution_count": 11,
      "metadata": {
        "colab": {
          "base_uri": "https://localhost:8080/"
        },
        "id": "_iRx-0OyzPVq",
        "outputId": "6955fe90-0192-430c-df48-33baea85ae02"
      },
      "outputs": [
        {
          "data": {
            "text/plain": [
              "np.int64(0)"
            ]
          },
          "execution_count": 11,
          "metadata": {},
          "output_type": "execute_result"
        }
      ],
      "source": [
        "df.duplicated().sum()"
      ]
    },
    {
      "cell_type": "markdown",
      "metadata": {
        "id": "ZoWWLsnNrNLL"
      },
      "source": [
        "**Insight:**\n",
        "- Mengejutkan! Tidak ada data kembar yang terdeteksi dari pengecekan ini.\n",
        "- Eits, hal ini masuk akal karena secara default data dianggap terduplikasi ketika memiliki nilai yang sama di setiap kolomnya. Nah, mengingat kolom `Person ID` sudah jelas memiliki nilai unik maka itulah alasan tidak ada yang terdeteksi kembar."
      ]
    },
    {
      "cell_type": "markdown",
      "metadata": {
        "id": "0GCWFc5IBJHW"
      },
      "source": [
        "#### Check Outliers"
      ]
    },
    {
      "cell_type": "code",
      "execution_count": 12,
      "metadata": {
        "colab": {
          "base_uri": "https://localhost:8080/",
          "height": 300
        },
        "id": "nuYov1lnAyvV",
        "outputId": "ca35e4f8-8d32-4fb1-8aa6-b97bd60ca3b9"
      },
      "outputs": [
        {
          "data": {
            "text/html": [
              "<div>\n",
              "<style scoped>\n",
              "    .dataframe tbody tr th:only-of-type {\n",
              "        vertical-align: middle;\n",
              "    }\n",
              "\n",
              "    .dataframe tbody tr th {\n",
              "        vertical-align: top;\n",
              "    }\n",
              "\n",
              "    .dataframe thead th {\n",
              "        text-align: right;\n",
              "    }\n",
              "</style>\n",
              "<table border=\"1\" class=\"dataframe\">\n",
              "  <thead>\n",
              "    <tr style=\"text-align: right;\">\n",
              "      <th></th>\n",
              "      <th>Person ID</th>\n",
              "      <th>Age</th>\n",
              "      <th>Sleep Duration</th>\n",
              "      <th>Quality of Sleep</th>\n",
              "      <th>Physical Activity Level</th>\n",
              "      <th>Stress Level</th>\n",
              "      <th>Heart Rate</th>\n",
              "      <th>Daily Steps</th>\n",
              "    </tr>\n",
              "  </thead>\n",
              "  <tbody>\n",
              "    <tr>\n",
              "      <th>count</th>\n",
              "      <td>374.000000</td>\n",
              "      <td>374.000000</td>\n",
              "      <td>374.000000</td>\n",
              "      <td>374.000000</td>\n",
              "      <td>374.000000</td>\n",
              "      <td>374.000000</td>\n",
              "      <td>374.000000</td>\n",
              "      <td>374.000000</td>\n",
              "    </tr>\n",
              "    <tr>\n",
              "      <th>mean</th>\n",
              "      <td>187.500000</td>\n",
              "      <td>42.184492</td>\n",
              "      <td>7.132086</td>\n",
              "      <td>7.312834</td>\n",
              "      <td>59.171123</td>\n",
              "      <td>5.385027</td>\n",
              "      <td>70.165775</td>\n",
              "      <td>6816.844920</td>\n",
              "    </tr>\n",
              "    <tr>\n",
              "      <th>std</th>\n",
              "      <td>108.108742</td>\n",
              "      <td>8.673133</td>\n",
              "      <td>0.795657</td>\n",
              "      <td>1.196956</td>\n",
              "      <td>20.830804</td>\n",
              "      <td>1.774526</td>\n",
              "      <td>4.135676</td>\n",
              "      <td>1617.915679</td>\n",
              "    </tr>\n",
              "    <tr>\n",
              "      <th>min</th>\n",
              "      <td>1.000000</td>\n",
              "      <td>27.000000</td>\n",
              "      <td>5.800000</td>\n",
              "      <td>4.000000</td>\n",
              "      <td>30.000000</td>\n",
              "      <td>3.000000</td>\n",
              "      <td>65.000000</td>\n",
              "      <td>3000.000000</td>\n",
              "    </tr>\n",
              "    <tr>\n",
              "      <th>25%</th>\n",
              "      <td>94.250000</td>\n",
              "      <td>35.250000</td>\n",
              "      <td>6.400000</td>\n",
              "      <td>6.000000</td>\n",
              "      <td>45.000000</td>\n",
              "      <td>4.000000</td>\n",
              "      <td>68.000000</td>\n",
              "      <td>5600.000000</td>\n",
              "    </tr>\n",
              "    <tr>\n",
              "      <th>50%</th>\n",
              "      <td>187.500000</td>\n",
              "      <td>43.000000</td>\n",
              "      <td>7.200000</td>\n",
              "      <td>7.000000</td>\n",
              "      <td>60.000000</td>\n",
              "      <td>5.000000</td>\n",
              "      <td>70.000000</td>\n",
              "      <td>7000.000000</td>\n",
              "    </tr>\n",
              "    <tr>\n",
              "      <th>75%</th>\n",
              "      <td>280.750000</td>\n",
              "      <td>50.000000</td>\n",
              "      <td>7.800000</td>\n",
              "      <td>8.000000</td>\n",
              "      <td>75.000000</td>\n",
              "      <td>7.000000</td>\n",
              "      <td>72.000000</td>\n",
              "      <td>8000.000000</td>\n",
              "    </tr>\n",
              "    <tr>\n",
              "      <th>max</th>\n",
              "      <td>374.000000</td>\n",
              "      <td>59.000000</td>\n",
              "      <td>8.500000</td>\n",
              "      <td>9.000000</td>\n",
              "      <td>90.000000</td>\n",
              "      <td>8.000000</td>\n",
              "      <td>86.000000</td>\n",
              "      <td>10000.000000</td>\n",
              "    </tr>\n",
              "  </tbody>\n",
              "</table>\n",
              "</div>"
            ],
            "text/plain": [
              "        Person ID         Age  Sleep Duration  Quality of Sleep  \\\n",
              "count  374.000000  374.000000      374.000000        374.000000   \n",
              "mean   187.500000   42.184492        7.132086          7.312834   \n",
              "std    108.108742    8.673133        0.795657          1.196956   \n",
              "min      1.000000   27.000000        5.800000          4.000000   \n",
              "25%     94.250000   35.250000        6.400000          6.000000   \n",
              "50%    187.500000   43.000000        7.200000          7.000000   \n",
              "75%    280.750000   50.000000        7.800000          8.000000   \n",
              "max    374.000000   59.000000        8.500000          9.000000   \n",
              "\n",
              "       Physical Activity Level  Stress Level  Heart Rate   Daily Steps  \n",
              "count               374.000000    374.000000  374.000000    374.000000  \n",
              "mean                 59.171123      5.385027   70.165775   6816.844920  \n",
              "std                  20.830804      1.774526    4.135676   1617.915679  \n",
              "min                  30.000000      3.000000   65.000000   3000.000000  \n",
              "25%                  45.000000      4.000000   68.000000   5600.000000  \n",
              "50%                  60.000000      5.000000   70.000000   7000.000000  \n",
              "75%                  75.000000      7.000000   72.000000   8000.000000  \n",
              "max                  90.000000      8.000000   86.000000  10000.000000  "
            ]
          },
          "execution_count": 12,
          "metadata": {},
          "output_type": "execute_result"
        }
      ],
      "source": [
        "df.describe()"
      ]
    },
    {
      "cell_type": "code",
      "execution_count": 13,
      "metadata": {
        "colab": {
          "base_uri": "https://localhost:8080/"
        },
        "id": "lDPEpmk5BKTn",
        "outputId": "4fcb0d41-339d-455c-8579-ade3f4bf2289"
      },
      "outputs": [
        {
          "data": {
            "text/plain": [
              "['Age',\n",
              " 'Sleep Duration',\n",
              " 'Quality of Sleep',\n",
              " 'Physical Activity Level',\n",
              " 'Stress Level',\n",
              " 'Heart Rate',\n",
              " 'Daily Steps']"
            ]
          },
          "execution_count": 13,
          "metadata": {},
          "output_type": "execute_result"
        }
      ],
      "source": [
        "numerical_columns = [x for x in df.select_dtypes(include='number').columns if x != 'Person ID']\n",
        "numerical_columns"
      ]
    },
    {
      "cell_type": "code",
      "execution_count": 14,
      "metadata": {
        "colab": {
          "base_uri": "https://localhost:8080/",
          "height": 607
        },
        "id": "vOxAfT53CzhG",
        "outputId": "83746c9d-2f3c-4a1c-eedd-8e86efb4aa07"
      },
      "outputs": [
        {
          "data": {
            "image/png": "[encoded data removed]",
            "text/plain": [
              "<Figure size 1200x600 with 7 Axes>"
            ]
          },
          "metadata": {},
          "output_type": "display_data"
        }
      ],
      "source": [
        "plt.figure(figsize=(12, 6))\n",
        "for i, col in enumerate(numerical_columns):\n",
        "    plt.subplot(2, 4, i + 1)\n",
        "    sns.boxplot(y=df[col])\n",
        "    plt.title(col)\n",
        "plt.tight_layout()\n",
        "plt.show()"
      ]
    },
    {
      "cell_type": "markdown",
      "metadata": {
        "id": "Al-d38X9rOhv"
      },
      "source": [
        "**Insight:**\n",
        "- Proporsi nilai di setiap kolom numerik terlihat aman atau tidak bias yang mencolok.\n",
        "- Kolom `Heart Rate` nampaknya menjadi satu-satunnya kolom yang memiliki outliers. Namun, perlu diperhatikan bahwa nilai outlier dari kolom tersebut masih terbilang normal dan masuk akal. Ingatlah bahwa detak jantung orang dewasa itu memang sekitara 60-100 bpm."
      ]
    },
    {
      "cell_type": "markdown",
      "metadata": {
        "id": "o4MxaxE2GCEo"
      },
      "source": [
        "### Cleaning Data"
      ]
    },
    {
      "cell_type": "markdown",
      "metadata": {
        "id": "Pi3EKvah86aO"
      },
      "source": [
        "#### Column Renaming\n",
        "Proses ini bertujuan untuk mengubah setiap nama kolom yang ada sesuai dengan standard penamaan Python. Perubahan nama sebenarnya preferensi dari masing-masing developer, tetapi tentu untuk developer yang sudah terbiasa dengan Python akan sangat menyukainya."
      ]
    },
    {
      "cell_type": "code",
      "execution_count": 15,
      "metadata": {
        "colab": {
          "base_uri": "https://localhost:8080/"
        },
        "id": "idhn-b3I84Em",
        "outputId": "8b8bebe4-dca5-4d58-a21c-8b8f66497667"
      },
      "outputs": [
        {
          "name": "stdout",
          "output_type": "stream",
          "text": [
            "<class 'pandas.core.frame.DataFrame'>\n",
            "RangeIndex: 374 entries, 0 to 373\n",
            "Data columns (total 13 columns):\n",
            " #   Column                   Non-Null Count  Dtype  \n",
            "---  ------                   --------------  -----  \n",
            " 0   person_id                374 non-null    int64  \n",
            " 1   gender                   374 non-null    object \n",
            " 2   age                      374 non-null    int64  \n",
            " 3   occupation               374 non-null    object \n",
            " 4   sleep_duration           374 non-null    float64\n",
            " 5   quality_of_sleep         374 non-null    int64  \n",
            " 6   physical_activity_level  374 non-null    int64  \n",
            " 7   stress_level             374 non-null    int64  \n",
            " 8   bmi_category             374 non-null    object \n",
            " 9   blood_pressure           374 non-null    object \n",
            " 10  heart_rate               374 non-null    int64  \n",
            " 11  daily_steps              374 non-null    int64  \n",
            " 12  sleep_disorder           155 non-null    object \n",
            "dtypes: float64(1), int64(7), object(5)\n",
            "memory usage: 38.1+ KB\n"
          ]
        }
      ],
      "source": [
        "df_clean = df.copy()\n",
        "\n",
        "df_clean.columns = df_clean.columns.str.lower().str.replace(' ', '_')\n",
        "df_clean.info()"
      ]
    },
    {
      "cell_type": "markdown",
      "metadata": {
        "id": "_FfvRIt7-udi"
      },
      "source": [
        "#### Dropping Irrelevant Columns\n",
        "Proses ini bertujuan untuk menghapus kolom-kolom yang tidak relevan atau kurang berguna untuk analisa yang akan dilakukan. Kolom yang akan dihapus pada proyek ini adalah `person_id`."
      ]
    },
    {
      "cell_type": "code",
      "execution_count": 16,
      "metadata": {
        "colab": {
          "base_uri": "https://localhost:8080/"
        },
        "id": "Uj6MnJwJ-8V7",
        "outputId": "7aef75c0-b7f7-4828-99c6-626906475369"
      },
      "outputs": [
        {
          "name": "stdout",
          "output_type": "stream",
          "text": [
            "<class 'pandas.core.frame.DataFrame'>\n",
            "RangeIndex: 374 entries, 0 to 373\n",
            "Data columns (total 12 columns):\n",
            " #   Column                   Non-Null Count  Dtype  \n",
            "---  ------                   --------------  -----  \n",
            " 0   gender                   374 non-null    object \n",
            " 1   age                      374 non-null    int64  \n",
            " 2   occupation               374 non-null    object \n",
            " 3   sleep_duration           374 non-null    float64\n",
            " 4   quality_of_sleep         374 non-null    int64  \n",
            " 5   physical_activity_level  374 non-null    int64  \n",
            " 6   stress_level             374 non-null    int64  \n",
            " 7   bmi_category             374 non-null    object \n",
            " 8   blood_pressure           374 non-null    object \n",
            " 9   heart_rate               374 non-null    int64  \n",
            " 10  daily_steps              374 non-null    int64  \n",
            " 11  sleep_disorder           155 non-null    object \n",
            "dtypes: float64(1), int64(6), object(5)\n",
            "memory usage: 35.2+ KB\n"
          ]
        }
      ],
      "source": [
        "df_clean.drop(columns=['person_id'], inplace=True)\n",
        "df_clean.info()"
      ]
    },
    {
      "cell_type": "markdown",
      "metadata": {
        "id": "jD_5QEbWGJuH"
      },
      "source": [
        "#### Handling Missing Values\n",
        "Proses ini bertujuan untuk menangani seluruh nilai kosong yang ada pada dataset, tentunya penanganan yang dilakukan disesuaikan dengan keadaan data supaya tidak ada informasi berguna yang terbuang. Mengingat kolom yang memiliki nilai kosong hanya `sleep_disorder` dan telah diketahui juga dari kekosongan nilainya maka akan ditangani dengan merubah nilainya supaya lebih sesuai dengan keadaan sebenarnya."
      ]
    },
    {
      "cell_type": "code",
      "execution_count": 17,
      "metadata": {
        "colab": {
          "base_uri": "https://localhost:8080/",
          "height": 460
        },
        "id": "nncDc26qGGSg",
        "outputId": "bee66fc2-aa24-4f9c-8088-10a700cb39f5"
      },
      "outputs": [
        {
          "data": {
            "text/plain": [
              "gender                     0\n",
              "age                        0\n",
              "occupation                 0\n",
              "sleep_duration             0\n",
              "quality_of_sleep           0\n",
              "physical_activity_level    0\n",
              "stress_level               0\n",
              "bmi_category               0\n",
              "blood_pressure             0\n",
              "heart_rate                 0\n",
              "daily_steps                0\n",
              "sleep_disorder             0\n",
              "dtype: int64"
            ]
          },
          "execution_count": 17,
          "metadata": {},
          "output_type": "execute_result"
        }
      ],
      "source": [
        "df_clean.fillna({'sleep_disorder': 'No Issue'}, inplace=True)\n",
        "\n",
        "df_clean.isnull().sum()"
      ]
    },
    {
      "cell_type": "markdown",
      "metadata": {
        "id": "pc6ce3oEC_79"
      },
      "source": [
        "#### Handling Incorrect Values\n",
        "Proses ini bertujuan untuk menangani nilai-nilai yang kurang akurat, seperti adanya typo, ketidakkonsistenan, atau hal-hal serupa lainnya. Terlihat dari output `.value_counts()` bahwa terdapat nilai dari kolom `bmi_category` dengan makna yang sama, yaitu **Normal** dan **Normal Weight**. Bisa jadi, keduanya memang sama atau salah satunya memang ada yang salah input.\n",
        "\n",
        "Oleh karena itu, mari kita cek deskripsi kedua nilai dari masing-masing kategori tersebut. Jika memang hampir sama, maka cukup dibuat konsisten saja salah satunya."
      ]
    },
    {
      "cell_type": "code",
      "execution_count": 18,
      "metadata": {
        "colab": {
          "base_uri": "https://localhost:8080/",
          "height": 300
        },
        "id": "6GLJv8KfCkIx",
        "outputId": "e455c5da-28e7-40bf-8466-f0aa44162254"
      },
      "outputs": [
        {
          "data": {
            "text/html": [
              "<div>\n",
              "<style scoped>\n",
              "    .dataframe tbody tr th:only-of-type {\n",
              "        vertical-align: middle;\n",
              "    }\n",
              "\n",
              "    .dataframe tbody tr th {\n",
              "        vertical-align: top;\n",
              "    }\n",
              "\n",
              "    .dataframe thead th {\n",
              "        text-align: right;\n",
              "    }\n",
              "</style>\n",
              "<table border=\"1\" class=\"dataframe\">\n",
              "  <thead>\n",
              "    <tr style=\"text-align: right;\">\n",
              "      <th></th>\n",
              "      <th>age</th>\n",
              "      <th>sleep_duration</th>\n",
              "      <th>quality_of_sleep</th>\n",
              "      <th>physical_activity_level</th>\n",
              "      <th>stress_level</th>\n",
              "      <th>heart_rate</th>\n",
              "      <th>daily_steps</th>\n",
              "    </tr>\n",
              "  </thead>\n",
              "  <tbody>\n",
              "    <tr>\n",
              "      <th>count</th>\n",
              "      <td>195.000000</td>\n",
              "      <td>195.000000</td>\n",
              "      <td>195.000000</td>\n",
              "      <td>195.000000</td>\n",
              "      <td>195.000000</td>\n",
              "      <td>195.000000</td>\n",
              "      <td>195.000000</td>\n",
              "    </tr>\n",
              "    <tr>\n",
              "      <th>mean</th>\n",
              "      <td>38.482051</td>\n",
              "      <td>7.393846</td>\n",
              "      <td>7.661538</td>\n",
              "      <td>57.692308</td>\n",
              "      <td>5.128205</td>\n",
              "      <td>68.728205</td>\n",
              "      <td>6887.179487</td>\n",
              "    </tr>\n",
              "    <tr>\n",
              "      <th>std</th>\n",
              "      <td>7.561666</td>\n",
              "      <td>0.732080</td>\n",
              "      <td>0.946130</td>\n",
              "      <td>21.896139</td>\n",
              "      <td>1.605074</td>\n",
              "      <td>2.293643</td>\n",
              "      <td>1372.630008</td>\n",
              "    </tr>\n",
              "    <tr>\n",
              "      <th>min</th>\n",
              "      <td>28.000000</td>\n",
              "      <td>6.000000</td>\n",
              "      <td>6.000000</td>\n",
              "      <td>30.000000</td>\n",
              "      <td>3.000000</td>\n",
              "      <td>65.000000</td>\n",
              "      <td>5000.000000</td>\n",
              "    </tr>\n",
              "    <tr>\n",
              "      <th>25%</th>\n",
              "      <td>32.000000</td>\n",
              "      <td>7.150000</td>\n",
              "      <td>7.000000</td>\n",
              "      <td>30.000000</td>\n",
              "      <td>4.000000</td>\n",
              "      <td>68.000000</td>\n",
              "      <td>5000.000000</td>\n",
              "    </tr>\n",
              "    <tr>\n",
              "      <th>50%</th>\n",
              "      <td>37.000000</td>\n",
              "      <td>7.500000</td>\n",
              "      <td>8.000000</td>\n",
              "      <td>60.000000</td>\n",
              "      <td>5.000000</td>\n",
              "      <td>70.000000</td>\n",
              "      <td>8000.000000</td>\n",
              "    </tr>\n",
              "    <tr>\n",
              "      <th>75%</th>\n",
              "      <td>42.000000</td>\n",
              "      <td>7.800000</td>\n",
              "      <td>8.000000</td>\n",
              "      <td>75.000000</td>\n",
              "      <td>6.000000</td>\n",
              "      <td>70.000000</td>\n",
              "      <td>8000.000000</td>\n",
              "    </tr>\n",
              "    <tr>\n",
              "      <th>max</th>\n",
              "      <td>54.000000</td>\n",
              "      <td>8.500000</td>\n",
              "      <td>9.000000</td>\n",
              "      <td>90.000000</td>\n",
              "      <td>8.000000</td>\n",
              "      <td>75.000000</td>\n",
              "      <td>10000.000000</td>\n",
              "    </tr>\n",
              "  </tbody>\n",
              "</table>\n",
              "</div>"
            ],
            "text/plain": [
              "              age  sleep_duration  quality_of_sleep  physical_activity_level  \\\n",
              "count  195.000000      195.000000        195.000000               195.000000   \n",
              "mean    38.482051        7.393846          7.661538                57.692308   \n",
              "std      7.561666        0.732080          0.946130                21.896139   \n",
              "min     28.000000        6.000000          6.000000                30.000000   \n",
              "25%     32.000000        7.150000          7.000000                30.000000   \n",
              "50%     37.000000        7.500000          8.000000                60.000000   \n",
              "75%     42.000000        7.800000          8.000000                75.000000   \n",
              "max     54.000000        8.500000          9.000000                90.000000   \n",
              "\n",
              "       stress_level  heart_rate   daily_steps  \n",
              "count    195.000000  195.000000    195.000000  \n",
              "mean       5.128205   68.728205   6887.179487  \n",
              "std        1.605074    2.293643   1372.630008  \n",
              "min        3.000000   65.000000   5000.000000  \n",
              "25%        4.000000   68.000000   5000.000000  \n",
              "50%        5.000000   70.000000   8000.000000  \n",
              "75%        6.000000   70.000000   8000.000000  \n",
              "max        8.000000   75.000000  10000.000000  "
            ]
          },
          "execution_count": 18,
          "metadata": {},
          "output_type": "execute_result"
        }
      ],
      "source": [
        "df_clean[df_clean.bmi_category == 'Normal'].describe()"
      ]
    },
    {
      "cell_type": "code",
      "execution_count": 19,
      "metadata": {
        "colab": {
          "base_uri": "https://localhost:8080/",
          "height": 300
        },
        "id": "A8mnsuomCYGy",
        "outputId": "ccb6d423-0c0d-4834-87ce-898357c7bb8f"
      },
      "outputs": [
        {
          "data": {
            "text/html": [
              "<div>\n",
              "<style scoped>\n",
              "    .dataframe tbody tr th:only-of-type {\n",
              "        vertical-align: middle;\n",
              "    }\n",
              "\n",
              "    .dataframe tbody tr th {\n",
              "        vertical-align: top;\n",
              "    }\n",
              "\n",
              "    .dataframe thead th {\n",
              "        text-align: right;\n",
              "    }\n",
              "</style>\n",
              "<table border=\"1\" class=\"dataframe\">\n",
              "  <thead>\n",
              "    <tr style=\"text-align: right;\">\n",
              "      <th></th>\n",
              "      <th>age</th>\n",
              "      <th>sleep_duration</th>\n",
              "      <th>quality_of_sleep</th>\n",
              "      <th>physical_activity_level</th>\n",
              "      <th>stress_level</th>\n",
              "      <th>heart_rate</th>\n",
              "      <th>daily_steps</th>\n",
              "    </tr>\n",
              "  </thead>\n",
              "  <tbody>\n",
              "    <tr>\n",
              "      <th>count</th>\n",
              "      <td>21.000000</td>\n",
              "      <td>21.000000</td>\n",
              "      <td>21.000000</td>\n",
              "      <td>21.000000</td>\n",
              "      <td>21.000000</td>\n",
              "      <td>21.000000</td>\n",
              "      <td>21.000000</td>\n",
              "    </tr>\n",
              "    <tr>\n",
              "      <th>mean</th>\n",
              "      <td>38.380952</td>\n",
              "      <td>7.333333</td>\n",
              "      <td>7.428571</td>\n",
              "      <td>60.333333</td>\n",
              "      <td>5.190476</td>\n",
              "      <td>71.285714</td>\n",
              "      <td>6766.666667</td>\n",
              "    </tr>\n",
              "    <tr>\n",
              "      <th>std</th>\n",
              "      <td>7.921339</td>\n",
              "      <td>0.585093</td>\n",
              "      <td>1.398979</td>\n",
              "      <td>16.758083</td>\n",
              "      <td>1.503963</td>\n",
              "      <td>4.616740</td>\n",
              "      <td>1722.304658</td>\n",
              "    </tr>\n",
              "    <tr>\n",
              "      <th>min</th>\n",
              "      <td>29.000000</td>\n",
              "      <td>6.400000</td>\n",
              "      <td>5.000000</td>\n",
              "      <td>35.000000</td>\n",
              "      <td>3.000000</td>\n",
              "      <td>65.000000</td>\n",
              "      <td>4000.000000</td>\n",
              "    </tr>\n",
              "    <tr>\n",
              "      <th>25%</th>\n",
              "      <td>32.000000</td>\n",
              "      <td>6.900000</td>\n",
              "      <td>7.000000</td>\n",
              "      <td>50.000000</td>\n",
              "      <td>4.000000</td>\n",
              "      <td>68.000000</td>\n",
              "      <td>6000.000000</td>\n",
              "    </tr>\n",
              "    <tr>\n",
              "      <th>50%</th>\n",
              "      <td>37.000000</td>\n",
              "      <td>7.300000</td>\n",
              "      <td>8.000000</td>\n",
              "      <td>60.000000</td>\n",
              "      <td>6.000000</td>\n",
              "      <td>70.000000</td>\n",
              "      <td>7000.000000</td>\n",
              "    </tr>\n",
              "    <tr>\n",
              "      <th>75%</th>\n",
              "      <td>40.000000</td>\n",
              "      <td>7.800000</td>\n",
              "      <td>8.000000</td>\n",
              "      <td>70.000000</td>\n",
              "      <td>6.000000</td>\n",
              "      <td>73.000000</td>\n",
              "      <td>7500.000000</td>\n",
              "    </tr>\n",
              "    <tr>\n",
              "      <th>max</th>\n",
              "      <td>56.000000</td>\n",
              "      <td>8.200000</td>\n",
              "      <td>9.000000</td>\n",
              "      <td>90.000000</td>\n",
              "      <td>7.000000</td>\n",
              "      <td>80.000000</td>\n",
              "      <td>10000.000000</td>\n",
              "    </tr>\n",
              "  </tbody>\n",
              "</table>\n",
              "</div>"
            ],
            "text/plain": [
              "             age  sleep_duration  quality_of_sleep  physical_activity_level  \\\n",
              "count  21.000000       21.000000         21.000000                21.000000   \n",
              "mean   38.380952        7.333333          7.428571                60.333333   \n",
              "std     7.921339        0.585093          1.398979                16.758083   \n",
              "min    29.000000        6.400000          5.000000                35.000000   \n",
              "25%    32.000000        6.900000          7.000000                50.000000   \n",
              "50%    37.000000        7.300000          8.000000                60.000000   \n",
              "75%    40.000000        7.800000          8.000000                70.000000   \n",
              "max    56.000000        8.200000          9.000000                90.000000   \n",
              "\n",
              "       stress_level  heart_rate   daily_steps  \n",
              "count     21.000000   21.000000     21.000000  \n",
              "mean       5.190476   71.285714   6766.666667  \n",
              "std        1.503963    4.616740   1722.304658  \n",
              "min        3.000000   65.000000   4000.000000  \n",
              "25%        4.000000   68.000000   6000.000000  \n",
              "50%        6.000000   70.000000   7000.000000  \n",
              "75%        6.000000   73.000000   7500.000000  \n",
              "max        7.000000   80.000000  10000.000000  "
            ]
          },
          "execution_count": 19,
          "metadata": {},
          "output_type": "execute_result"
        }
      ],
      "source": [
        "df_clean[df_clean.bmi_category == 'Normal Weight'].describe()"
      ]
    },
    {
      "cell_type": "code",
      "execution_count": 20,
      "metadata": {
        "colab": {
          "base_uri": "https://localhost:8080/",
          "height": 210
        },
        "id": "myzeJdJfDBOT",
        "outputId": "9e329a9c-09e6-4154-af77-70dc27e273e5"
      },
      "outputs": [
        {
          "data": {
            "text/plain": [
              "bmi_category\n",
              "Normal        216\n",
              "Overweight    148\n",
              "Obese          10\n",
              "Name: count, dtype: int64"
            ]
          },
          "execution_count": 20,
          "metadata": {},
          "output_type": "execute_result"
        }
      ],
      "source": [
        "df_clean['bmi_category'] = df_clean['bmi_category'].replace('Normal Weight', 'Normal')\n",
        "df_clean['bmi_category'].value_counts()"
      ]
    },
    {
      "cell_type": "markdown",
      "metadata": {},
      "source": [
        "**Insight**:\n",
        "\n",
        "Pada akhirnya kateori `Normal Weight` diubah menjadi `Normal` dikarenakan setelah dicek rata-ratanya nilainya hampir sama."
      ]
    },
    {
      "cell_type": "markdown",
      "metadata": {
        "id": "xxH_OCqdm0dZ"
      },
      "source": [
        "#### Correcting Data Types\n",
        "Proses ini bertujuan untuk merubah tipe data yang belum sesuai dari kolom-kolom dataset yang ada. Opsi yang akan dilakukan adalah merubah kolom yang bertipe ordinal menjadi `category`."
      ]
    },
    {
      "cell_type": "code",
      "execution_count": 21,
      "metadata": {
        "colab": {
          "base_uri": "https://localhost:8080/"
        },
        "id": "-F0AgdsICUK-",
        "outputId": "f0950b85-2981-4cfb-8ee3-79ec1e04d771"
      },
      "outputs": [
        {
          "data": {
            "text/plain": [
              "CategoricalDtype(categories=['Normal', 'Overweight', 'Obese'], ordered=True, categories_dtype=object)"
            ]
          },
          "execution_count": 21,
          "metadata": {},
          "output_type": "execute_result"
        }
      ],
      "source": [
        "category_order = ['Normal', 'Overweight', 'Obese']\n",
        "\n",
        "df_clean['bmi_category'] = pd.Categorical(df_clean['bmi_category'], categories=category_order, ordered=True)\n",
        "df_clean['bmi_category'].dtype"
      ]
    },
    {
      "cell_type": "markdown",
      "metadata": {
        "id": "1ycpZ0biHuA1"
      },
      "source": [
        "#### Feature Engineering\n",
        "Proses ini bertujuan untuk membuat fitur baru berdasarkan fitur yang sudah ada untuk digunakan dalam analisa yang akan dilakukan. Dalam proyek ini, kita akan memisahkan nilai sistolik dan diastolik dari nilai lengkap tekanan darahnya."
      ]
    },
    {
      "cell_type": "code",
      "execution_count": 22,
      "metadata": {
        "colab": {
          "base_uri": "https://localhost:8080/",
          "height": 278
        },
        "id": "qYCN-88cHvc7",
        "outputId": "603789a0-08fa-4061-a04a-39d2d27b679a"
      },
      "outputs": [
        {
          "data": {
            "text/html": [
              "<div>\n",
              "<style scoped>\n",
              "    .dataframe tbody tr th:only-of-type {\n",
              "        vertical-align: middle;\n",
              "    }\n",
              "\n",
              "    .dataframe tbody tr th {\n",
              "        vertical-align: top;\n",
              "    }\n",
              "\n",
              "    .dataframe thead th {\n",
              "        text-align: right;\n",
              "    }\n",
              "</style>\n",
              "<table border=\"1\" class=\"dataframe\">\n",
              "  <thead>\n",
              "    <tr style=\"text-align: right;\">\n",
              "      <th></th>\n",
              "      <th>gender</th>\n",
              "      <th>age</th>\n",
              "      <th>occupation</th>\n",
              "      <th>sleep_duration</th>\n",
              "      <th>quality_of_sleep</th>\n",
              "      <th>physical_activity_level</th>\n",
              "      <th>stress_level</th>\n",
              "      <th>bmi_category</th>\n",
              "      <th>heart_rate</th>\n",
              "      <th>daily_steps</th>\n",
              "      <th>sleep_disorder</th>\n",
              "      <th>blood_pressure_upper</th>\n",
              "      <th>blood_pressure_lower</th>\n",
              "    </tr>\n",
              "  </thead>\n",
              "  <tbody>\n",
              "    <tr>\n",
              "      <th>0</th>\n",
              "      <td>Male</td>\n",
              "      <td>27</td>\n",
              "      <td>Software Engineer</td>\n",
              "      <td>6.1</td>\n",
              "      <td>6</td>\n",
              "      <td>42</td>\n",
              "      <td>6</td>\n",
              "      <td>Overweight</td>\n",
              "      <td>77</td>\n",
              "      <td>4200</td>\n",
              "      <td>No Issue</td>\n",
              "      <td>126</td>\n",
              "      <td>83</td>\n",
              "    </tr>\n",
              "    <tr>\n",
              "      <th>1</th>\n",
              "      <td>Male</td>\n",
              "      <td>28</td>\n",
              "      <td>Doctor</td>\n",
              "      <td>6.2</td>\n",
              "      <td>6</td>\n",
              "      <td>60</td>\n",
              "      <td>8</td>\n",
              "      <td>Normal</td>\n",
              "      <td>75</td>\n",
              "      <td>10000</td>\n",
              "      <td>No Issue</td>\n",
              "      <td>125</td>\n",
              "      <td>80</td>\n",
              "    </tr>\n",
              "    <tr>\n",
              "      <th>2</th>\n",
              "      <td>Male</td>\n",
              "      <td>28</td>\n",
              "      <td>Doctor</td>\n",
              "      <td>6.2</td>\n",
              "      <td>6</td>\n",
              "      <td>60</td>\n",
              "      <td>8</td>\n",
              "      <td>Normal</td>\n",
              "      <td>75</td>\n",
              "      <td>10000</td>\n",
              "      <td>No Issue</td>\n",
              "      <td>125</td>\n",
              "      <td>80</td>\n",
              "    </tr>\n",
              "    <tr>\n",
              "      <th>3</th>\n",
              "      <td>Male</td>\n",
              "      <td>28</td>\n",
              "      <td>Sales Representative</td>\n",
              "      <td>5.9</td>\n",
              "      <td>4</td>\n",
              "      <td>30</td>\n",
              "      <td>8</td>\n",
              "      <td>Obese</td>\n",
              "      <td>85</td>\n",
              "      <td>3000</td>\n",
              "      <td>Sleep Apnea</td>\n",
              "      <td>140</td>\n",
              "      <td>90</td>\n",
              "    </tr>\n",
              "    <tr>\n",
              "      <th>4</th>\n",
              "      <td>Male</td>\n",
              "      <td>28</td>\n",
              "      <td>Sales Representative</td>\n",
              "      <td>5.9</td>\n",
              "      <td>4</td>\n",
              "      <td>30</td>\n",
              "      <td>8</td>\n",
              "      <td>Obese</td>\n",
              "      <td>85</td>\n",
              "      <td>3000</td>\n",
              "      <td>Sleep Apnea</td>\n",
              "      <td>140</td>\n",
              "      <td>90</td>\n",
              "    </tr>\n",
              "  </tbody>\n",
              "</table>\n",
              "</div>"
            ],
            "text/plain": [
              "  gender  age            occupation  sleep_duration  quality_of_sleep  \\\n",
              "0   Male   27     Software Engineer             6.1                 6   \n",
              "1   Male   28                Doctor             6.2                 6   \n",
              "2   Male   28                Doctor             6.2                 6   \n",
              "3   Male   28  Sales Representative             5.9                 4   \n",
              "4   Male   28  Sales Representative             5.9                 4   \n",
              "\n",
              "   physical_activity_level  stress_level bmi_category  heart_rate  \\\n",
              "0                       42             6   Overweight          77   \n",
              "1                       60             8       Normal          75   \n",
              "2                       60             8       Normal          75   \n",
              "3                       30             8        Obese          85   \n",
              "4                       30             8        Obese          85   \n",
              "\n",
              "   daily_steps sleep_disorder  blood_pressure_upper  blood_pressure_lower  \n",
              "0         4200       No Issue                   126                    83  \n",
              "1        10000       No Issue                   125                    80  \n",
              "2        10000       No Issue                   125                    80  \n",
              "3         3000    Sleep Apnea                   140                    90  \n",
              "4         3000    Sleep Apnea                   140                    90  "
            ]
          },
          "execution_count": 22,
          "metadata": {},
          "output_type": "execute_result"
        }
      ],
      "source": [
        "df_clean = pd.concat([df_clean, df_clean['blood_pressure'].str.split('/', expand=True)], axis=1).drop('blood_pressure', axis=1)\n",
        "df_clean = df_clean.rename(columns={0: 'blood_pressure_upper', 1: 'blood_pressure_lower'})\n",
        "df_clean['blood_pressure_upper'] = df_clean['blood_pressure_upper'].astype(int)\n",
        "df_clean['blood_pressure_lower'] = df_clean['blood_pressure_lower'].astype(int)\n",
        "\n",
        "df_clean.head()"
      ]
    },
    {
      "cell_type": "markdown",
      "metadata": {
        "id": "o7IpH13xhaY8"
      },
      "source": [
        "Setelah memisahkan nilai tekanan darah antara sistolik dan diastoliknya, nampaknya kita memiliki peluang untuk membuat fitur baru untuk mengategorikal tekanan darah seseorang tergolong normal atau tidak berdasarkan nilai tersebut."
      ]
    },
    {
      "cell_type": "code",
      "execution_count": 23,
      "metadata": {
        "colab": {
          "base_uri": "https://localhost:8080/",
          "height": 241
        },
        "id": "cKRPscqzKAts",
        "outputId": "8f39c6d1-c511-4cec-e8a5-b141894a3838"
      },
      "outputs": [
        {
          "data": {
            "text/plain": [
              "blood_pressure_category\n",
              "Hypertension Stage 1    261\n",
              "Hypertension Stage 2     71\n",
              "Normal                   41\n",
              "Elevated                  1\n",
              "Name: count, dtype: int64"
            ]
          },
          "execution_count": 23,
          "metadata": {},
          "output_type": "execute_result"
        }
      ],
      "source": [
        "# source: https://www.heart.org/en/health-topics/high-blood-pressure/understanding-blood-pressure-readings\n",
        "\n",
        "def categorize_blood_pressure(systolic, diastolic):\n",
        "    if systolic < 90 or diastolic < 60:\n",
        "        return \"Low\"\n",
        "    elif 90 <= systolic < 120 and diastolic < 80:\n",
        "        return \"Normal\"\n",
        "    elif 120 <= systolic < 130 and diastolic < 80:\n",
        "        return \"Elevated\"\n",
        "    elif 130 <= systolic < 140 or 80 <= diastolic < 90:\n",
        "        return \"Hypertension Stage 1\"\n",
        "    elif 140 <= systolic < 180 or 90 <= diastolic < 120:\n",
        "        return \"Hypertension Stage 2\"\n",
        "    else:\n",
        "        return \"Hypertensive Crisis\"\n",
        "\n",
        "df_clean['blood_pressure_category'] = df_clean.apply(lambda row: categorize_blood_pressure(row['blood_pressure_upper'], row['blood_pressure_lower']), axis=1)\n",
        "df_clean['blood_pressure_category'].value_counts()"
      ]
    },
    {
      "cell_type": "code",
      "execution_count": 24,
      "metadata": {
        "colab": {
          "base_uri": "https://localhost:8080/"
        },
        "id": "SKMdHQqSPYEc",
        "outputId": "d831cd4b-49a0-48b5-becd-ab4a3192a1c7"
      },
      "outputs": [
        {
          "data": {
            "text/plain": [
              "CategoricalDtype(categories=['Low', 'Normal', 'Elevated', 'Hypertension Stage 1',\n",
              "                  'Hypertension Stage 2', 'Hypertensive Crisis'],\n",
              ", ordered=True, categories_dtype=object)"
            ]
          },
          "execution_count": 24,
          "metadata": {},
          "output_type": "execute_result"
        }
      ],
      "source": [
        "category_order = [\"Low\", \"Normal\", \"Elevated\", \"Hypertension Stage 1\", \"Hypertension Stage 2\", \"Hypertensive Crisis\"]\n",
        "df_clean['blood_pressure_category'] = pd.Categorical(df_clean['blood_pressure_category'], categories=category_order, ordered=True)\n",
        "\n",
        "df_clean['blood_pressure_category'].dtype"
      ]
    },
    {
      "cell_type": "code",
      "execution_count": 25,
      "metadata": {},
      "outputs": [
        {
          "data": {
            "text/html": [
              "<div>\n",
              "<style scoped>\n",
              "    .dataframe tbody tr th:only-of-type {\n",
              "        vertical-align: middle;\n",
              "    }\n",
              "\n",
              "    .dataframe tbody tr th {\n",
              "        vertical-align: top;\n",
              "    }\n",
              "\n",
              "    .dataframe thead th {\n",
              "        text-align: right;\n",
              "    }\n",
              "</style>\n",
              "<table border=\"1\" class=\"dataframe\">\n",
              "  <thead>\n",
              "    <tr style=\"text-align: right;\">\n",
              "      <th></th>\n",
              "      <th>gender</th>\n",
              "      <th>age</th>\n",
              "      <th>occupation</th>\n",
              "      <th>sleep_duration</th>\n",
              "      <th>quality_of_sleep</th>\n",
              "      <th>physical_activity_level</th>\n",
              "      <th>stress_level</th>\n",
              "      <th>bmi_category</th>\n",
              "      <th>heart_rate</th>\n",
              "      <th>daily_steps</th>\n",
              "      <th>sleep_disorder</th>\n",
              "      <th>blood_pressure_upper</th>\n",
              "      <th>blood_pressure_lower</th>\n",
              "      <th>blood_pressure_category</th>\n",
              "    </tr>\n",
              "  </thead>\n",
              "  <tbody>\n",
              "    <tr>\n",
              "      <th>0</th>\n",
              "      <td>Male</td>\n",
              "      <td>27</td>\n",
              "      <td>Software Engineer</td>\n",
              "      <td>6.1</td>\n",
              "      <td>6</td>\n",
              "      <td>42</td>\n",
              "      <td>6</td>\n",
              "      <td>Overweight</td>\n",
              "      <td>77</td>\n",
              "      <td>4200</td>\n",
              "      <td>No Issue</td>\n",
              "      <td>126</td>\n",
              "      <td>83</td>\n",
              "      <td>Hypertension Stage 1</td>\n",
              "    </tr>\n",
              "    <tr>\n",
              "      <th>1</th>\n",
              "      <td>Male</td>\n",
              "      <td>28</td>\n",
              "      <td>Doctor</td>\n",
              "      <td>6.2</td>\n",
              "      <td>6</td>\n",
              "      <td>60</td>\n",
              "      <td>8</td>\n",
              "      <td>Normal</td>\n",
              "      <td>75</td>\n",
              "      <td>10000</td>\n",
              "      <td>No Issue</td>\n",
              "      <td>125</td>\n",
              "      <td>80</td>\n",
              "      <td>Hypertension Stage 1</td>\n",
              "    </tr>\n",
              "    <tr>\n",
              "      <th>2</th>\n",
              "      <td>Male</td>\n",
              "      <td>28</td>\n",
              "      <td>Doctor</td>\n",
              "      <td>6.2</td>\n",
              "      <td>6</td>\n",
              "      <td>60</td>\n",
              "      <td>8</td>\n",
              "      <td>Normal</td>\n",
              "      <td>75</td>\n",
              "      <td>10000</td>\n",
              "      <td>No Issue</td>\n",
              "      <td>125</td>\n",
              "      <td>80</td>\n",
              "      <td>Hypertension Stage 1</td>\n",
              "    </tr>\n",
              "    <tr>\n",
              "      <th>3</th>\n",
              "      <td>Male</td>\n",
              "      <td>28</td>\n",
              "      <td>Sales Representative</td>\n",
              "      <td>5.9</td>\n",
              "      <td>4</td>\n",
              "      <td>30</td>\n",
              "      <td>8</td>\n",
              "      <td>Obese</td>\n",
              "      <td>85</td>\n",
              "      <td>3000</td>\n",
              "      <td>Sleep Apnea</td>\n",
              "      <td>140</td>\n",
              "      <td>90</td>\n",
              "      <td>Hypertension Stage 2</td>\n",
              "    </tr>\n",
              "    <tr>\n",
              "      <th>4</th>\n",
              "      <td>Male</td>\n",
              "      <td>28</td>\n",
              "      <td>Sales Representative</td>\n",
              "      <td>5.9</td>\n",
              "      <td>4</td>\n",
              "      <td>30</td>\n",
              "      <td>8</td>\n",
              "      <td>Obese</td>\n",
              "      <td>85</td>\n",
              "      <td>3000</td>\n",
              "      <td>Sleep Apnea</td>\n",
              "      <td>140</td>\n",
              "      <td>90</td>\n",
              "      <td>Hypertension Stage 2</td>\n",
              "    </tr>\n",
              "    <tr>\n",
              "      <th>...</th>\n",
              "      <td>...</td>\n",
              "      <td>...</td>\n",
              "      <td>...</td>\n",
              "      <td>...</td>\n",
              "      <td>...</td>\n",
              "      <td>...</td>\n",
              "      <td>...</td>\n",
              "      <td>...</td>\n",
              "      <td>...</td>\n",
              "      <td>...</td>\n",
              "      <td>...</td>\n",
              "      <td>...</td>\n",
              "      <td>...</td>\n",
              "      <td>...</td>\n",
              "    </tr>\n",
              "    <tr>\n",
              "      <th>369</th>\n",
              "      <td>Female</td>\n",
              "      <td>59</td>\n",
              "      <td>Nurse</td>\n",
              "      <td>8.1</td>\n",
              "      <td>9</td>\n",
              "      <td>75</td>\n",
              "      <td>3</td>\n",
              "      <td>Overweight</td>\n",
              "      <td>68</td>\n",
              "      <td>7000</td>\n",
              "      <td>Sleep Apnea</td>\n",
              "      <td>140</td>\n",
              "      <td>95</td>\n",
              "      <td>Hypertension Stage 2</td>\n",
              "    </tr>\n",
              "    <tr>\n",
              "      <th>370</th>\n",
              "      <td>Female</td>\n",
              "      <td>59</td>\n",
              "      <td>Nurse</td>\n",
              "      <td>8.0</td>\n",
              "      <td>9</td>\n",
              "      <td>75</td>\n",
              "      <td>3</td>\n",
              "      <td>Overweight</td>\n",
              "      <td>68</td>\n",
              "      <td>7000</td>\n",
              "      <td>Sleep Apnea</td>\n",
              "      <td>140</td>\n",
              "      <td>95</td>\n",
              "      <td>Hypertension Stage 2</td>\n",
              "    </tr>\n",
              "    <tr>\n",
              "      <th>371</th>\n",
              "      <td>Female</td>\n",
              "      <td>59</td>\n",
              "      <td>Nurse</td>\n",
              "      <td>8.1</td>\n",
              "      <td>9</td>\n",
              "      <td>75</td>\n",
              "      <td>3</td>\n",
              "      <td>Overweight</td>\n",
              "      <td>68</td>\n",
              "      <td>7000</td>\n",
              "      <td>Sleep Apnea</td>\n",
              "      <td>140</td>\n",
              "      <td>95</td>\n",
              "      <td>Hypertension Stage 2</td>\n",
              "    </tr>\n",
              "    <tr>\n",
              "      <th>372</th>\n",
              "      <td>Female</td>\n",
              "      <td>59</td>\n",
              "      <td>Nurse</td>\n",
              "      <td>8.1</td>\n",
              "      <td>9</td>\n",
              "      <td>75</td>\n",
              "      <td>3</td>\n",
              "      <td>Overweight</td>\n",
              "      <td>68</td>\n",
              "      <td>7000</td>\n",
              "      <td>Sleep Apnea</td>\n",
              "      <td>140</td>\n",
              "      <td>95</td>\n",
              "      <td>Hypertension Stage 2</td>\n",
              "    </tr>\n",
              "    <tr>\n",
              "      <th>373</th>\n",
              "      <td>Female</td>\n",
              "      <td>59</td>\n",
              "      <td>Nurse</td>\n",
              "      <td>8.1</td>\n",
              "      <td>9</td>\n",
              "      <td>75</td>\n",
              "      <td>3</td>\n",
              "      <td>Overweight</td>\n",
              "      <td>68</td>\n",
              "      <td>7000</td>\n",
              "      <td>Sleep Apnea</td>\n",
              "      <td>140</td>\n",
              "      <td>95</td>\n",
              "      <td>Hypertension Stage 2</td>\n",
              "    </tr>\n",
              "  </tbody>\n",
              "</table>\n",
              "<p>374 rows × 14 columns</p>\n",
              "</div>"
            ],
            "text/plain": [
              "     gender  age            occupation  sleep_duration  quality_of_sleep  \\\n",
              "0      Male   27     Software Engineer             6.1                 6   \n",
              "1      Male   28                Doctor             6.2                 6   \n",
              "2      Male   28                Doctor             6.2                 6   \n",
              "3      Male   28  Sales Representative             5.9                 4   \n",
              "4      Male   28  Sales Representative             5.9                 4   \n",
              "..      ...  ...                   ...             ...               ...   \n",
              "369  Female   59                 Nurse             8.1                 9   \n",
              "370  Female   59                 Nurse             8.0                 9   \n",
              "371  Female   59                 Nurse             8.1                 9   \n",
              "372  Female   59                 Nurse             8.1                 9   \n",
              "373  Female   59                 Nurse             8.1                 9   \n",
              "\n",
              "     physical_activity_level  stress_level bmi_category  heart_rate  \\\n",
              "0                         42             6   Overweight          77   \n",
              "1                         60             8       Normal          75   \n",
              "2                         60             8       Normal          75   \n",
              "3                         30             8        Obese          85   \n",
              "4                         30             8        Obese          85   \n",
              "..                       ...           ...          ...         ...   \n",
              "369                       75             3   Overweight          68   \n",
              "370                       75             3   Overweight          68   \n",
              "371                       75             3   Overweight          68   \n",
              "372                       75             3   Overweight          68   \n",
              "373                       75             3   Overweight          68   \n",
              "\n",
              "     daily_steps sleep_disorder  blood_pressure_upper  blood_pressure_lower  \\\n",
              "0           4200       No Issue                   126                    83   \n",
              "1          10000       No Issue                   125                    80   \n",
              "2          10000       No Issue                   125                    80   \n",
              "3           3000    Sleep Apnea                   140                    90   \n",
              "4           3000    Sleep Apnea                   140                    90   \n",
              "..           ...            ...                   ...                   ...   \n",
              "369         7000    Sleep Apnea                   140                    95   \n",
              "370         7000    Sleep Apnea                   140                    95   \n",
              "371         7000    Sleep Apnea                   140                    95   \n",
              "372         7000    Sleep Apnea                   140                    95   \n",
              "373         7000    Sleep Apnea                   140                    95   \n",
              "\n",
              "    blood_pressure_category  \n",
              "0      Hypertension Stage 1  \n",
              "1      Hypertension Stage 1  \n",
              "2      Hypertension Stage 1  \n",
              "3      Hypertension Stage 2  \n",
              "4      Hypertension Stage 2  \n",
              "..                      ...  \n",
              "369    Hypertension Stage 2  \n",
              "370    Hypertension Stage 2  \n",
              "371    Hypertension Stage 2  \n",
              "372    Hypertension Stage 2  \n",
              "373    Hypertension Stage 2  \n",
              "\n",
              "[374 rows x 14 columns]"
            ]
          },
          "execution_count": 25,
          "metadata": {},
          "output_type": "execute_result"
        }
      ],
      "source": [
        "df_clean"
      ]
    },
    {
      "cell_type": "markdown",
      "metadata": {
        "id": "CwzY7O2L1Ojl"
      },
      "source": [
        "#### Handling Duplicated Data\n",
        "Proses ini bertujuan untuk menghapus data kembar yang ada di dataset supaya analisa yang dilakukan ke depannya terbebas dari bias. Mengingat dataset yang dimiliki sudah cukup bersih, maka proses penghapusan duplikasi data dapat dilakukan dengan mudah."
      ]
    },
    {
      "cell_type": "code",
      "execution_count": 26,
      "metadata": {
        "colab": {
          "base_uri": "https://localhost:8080/"
        },
        "id": "BjTKom1J1Jka",
        "outputId": "05967f2f-fb19-435c-df60-088f54f9fa2b"
      },
      "outputs": [
        {
          "data": {
            "text/plain": [
              "np.int64(242)"
            ]
          },
          "execution_count": 26,
          "metadata": {},
          "output_type": "execute_result"
        }
      ],
      "source": [
        "df_clean.duplicated().sum()"
      ]
    },
    {
      "cell_type": "code",
      "execution_count": 27,
      "metadata": {
        "colab": {
          "base_uri": "https://localhost:8080/"
        },
        "id": "Aayo4CaO1QpH",
        "outputId": "06f1ce27-150c-4399-afe9-39f9c3a30ded"
      },
      "outputs": [
        {
          "data": {
            "text/plain": [
              "np.int64(0)"
            ]
          },
          "execution_count": 27,
          "metadata": {},
          "output_type": "execute_result"
        }
      ],
      "source": [
        "df_clean.drop_duplicates(inplace=True)\n",
        "df_clean.duplicated().sum()"
      ]
    },
    {
      "cell_type": "markdown",
      "metadata": {
        "id": "pmynDvflHrGg"
      },
      "source": [
        "## Exploratory Data Analysis (EDA)"
      ]
    },
    {
      "cell_type": "code",
      "execution_count": 28,
      "metadata": {
        "id": "v2DpOsRmWqgk"
      },
      "outputs": [],
      "source": [
        "df_eda = df_clean.copy()"
      ]
    },
    {
      "cell_type": "markdown",
      "metadata": {
        "id": "izeQxJ14Hzct"
      },
      "source": [
        "### Univariate Analysis"
      ]
    },
    {
      "cell_type": "code",
      "execution_count": null,
      "metadata": {
        "colab": {
          "base_uri": "https://localhost:8080/",
          "height": 407
        },
        "id": "SFc8ApCIKBDS",
        "outputId": "f4d5fa72-3b64-4cc4-c720-699e1ce242aa"
      },
      "outputs": [
        {
          "data": {
            "image/png": "[encoded data removed]",
            "text/plain": [
              "<Figure size 1200x400 with 3 Axes>"
            ]
          },
          "metadata": {},
          "output_type": "display_data"
        }
      ],
      "source": [
        "categorical_columns = df_eda.select_dtypes(include=['object', 'category']).columns\n",
        "filtered_categorical_columns = categorical_columns.drop(['occupation', 'blood_pressure_category'])\n",
        "\n",
        "plt.figure(figsize=(12, 4))\n",
        "for i, col in enumerate(filtered_categorical_columns):\n",
        "    plt.subplot(1, 3, i + 1)\n",
        "    sns.countplot(x=df_eda[col])\n",
        "    plt.title(col)\n",
        "    plt.xlabel('')\n",
        "    plt.ylim(0,df_eda[col].value_counts().max()*1.08)\n",
        "    for p in plt.gca().patches:\n",
        "        plt.gca().annotate(int(p.get_height()), (p.get_x() + p.get_width() / 2., p.get_height()),\n",
        "                        ha='center', va='center', xytext=(0, 5), textcoords='offset points')\n",
        "plt.tight_layout()\n",
        "plt.show()"
      ]
    },
    {
      "cell_type": "markdown",
      "metadata": {
        "id": "HID6FqtHrYJw"
      },
      "source": [
        "**Insight:**\n",
        "- Proporsi antara pria dan wanita memang benar-benar seimbang.\n",
        "- Terdapat 7 orang yang mengalami obesitas, diikuti 52 orang yang kelebihan berat badan.\n",
        "- Persentase orang yang mengalami gangguan tidur mencapai 44% (59 dari 132)."
      ]
    },
    {
      "cell_type": "code",
      "execution_count": 30,
      "metadata": {
        "colab": {
          "base_uri": "https://localhost:8080/",
          "height": 807
        },
        "id": "OosZi-XmDhOu",
        "outputId": "dd6be38c-5695-40f3-db74-0a30262c566e"
      },
      "outputs": [
        {
          "data": {
            "image/png": "[encoded data removed]",
            "text/plain": [
              "<Figure size 1500x800 with 9 Axes>"
            ]
          },
          "metadata": {},
          "output_type": "display_data"
        }
      ],
      "source": [
        "numerical_columns = df_eda.select_dtypes(include='number').columns\n",
        "\n",
        "plt.figure(figsize=(15, 8))\n",
        "for i, col in enumerate(numerical_columns):\n",
        "    plt.subplot(3, 4, i + 1)\n",
        "    sns.histplot(df_eda[col], kde=True)  # Use histplot for histograms\n",
        "    plt.axvline(df_eda[col].mean(), color='r', linestyle='dashed', linewidth=1)\n",
        "    plt.text(df_eda[col].mean()*1.01, plt.ylim()[1] * 0.9, f'μ = {df_eda[col].mean():.2f}', color='r')\n",
        "    plt.title(col)\n",
        "    plt.xlabel('')\n",
        "plt.tight_layout()\n",
        "plt.show()"
      ]
    },
    {
      "cell_type": "markdown",
      "metadata": {
        "id": "Ut__e5lxrZFQ"
      },
      "source": [
        "**Insight:**\n",
        "- Tidak ada satupun kolom numerik yang terdistribusi normal.\n",
        "- Kolom `heart_rate` menjadi yang paling mencolok karena terdistribusi right-skewed.\n",
        "- Secara rata-rata populasi, durasi tidur telah mencapai durasi tidur yang direkomendasikan (7-8 jam)."
      ]
    },
    {
      "cell_type": "markdown",
      "metadata": {
        "id": "En8U74OPS2zs"
      },
      "source": [
        "### Bivariate Analysis"
      ]
    },
    {
      "cell_type": "code",
      "execution_count": 31,
      "metadata": {
        "id": "NzKH8PR38h5a"
      },
      "outputs": [],
      "source": [
        "def groupby_mean(data, col, *requested_type):\n",
        "  \"\"\"Groups data by a specified column and calculates the mean of all other columns.\n",
        "\n",
        "  Args:\n",
        "    data: The input DataFrame.\n",
        "    col: The column to group by.\n",
        "\n",
        "  Returns:\n",
        "    A DataFrame with the grouped data and mean values, or None if an error occurs.\n",
        "  \"\"\"\n",
        "  try:\n",
        "    grouped = data.groupby(col, observed=False)[data.select_dtypes(list(requested_type)).columns].mean()\n",
        "    grouped = grouped.dropna()\n",
        "    display(grouped.T)\n",
        "  except KeyError:\n",
        "    print(f\"Error: Column '{col}' not found in the DataFrame.\")\n",
        "    return None\n",
        "  except Exception as e:\n",
        "    print(f\"An unexpected error occurred: {e}\")\n",
        "    return None"
      ]
    },
    {
      "cell_type": "code",
      "execution_count": 32,
      "metadata": {
        "colab": {
          "base_uri": "https://localhost:8080/",
          "height": 1000
        },
        "id": "cpU2uSSCE1No",
        "outputId": "a4c0e75a-fed2-41c9-e8a0-e27876045e3a"
      },
      "outputs": [
        {
          "name": "stdout",
          "output_type": "stream",
          "text": [
            "--------------------gender--------------------\n"
          ]
        },
        {
          "data": {
            "text/html": [
              "<div>\n",
              "<style scoped>\n",
              "    .dataframe tbody tr th:only-of-type {\n",
              "        vertical-align: middle;\n",
              "    }\n",
              "\n",
              "    .dataframe tbody tr th {\n",
              "        vertical-align: top;\n",
              "    }\n",
              "\n",
              "    .dataframe thead th {\n",
              "        text-align: right;\n",
              "    }\n",
              "</style>\n",
              "<table border=\"1\" class=\"dataframe\">\n",
              "  <thead>\n",
              "    <tr style=\"text-align: right;\">\n",
              "      <th>gender</th>\n",
              "      <th>Female</th>\n",
              "      <th>Male</th>\n",
              "    </tr>\n",
              "  </thead>\n",
              "  <tbody>\n",
              "    <tr>\n",
              "      <th>age</th>\n",
              "      <td>45.830769</td>\n",
              "      <td>36.567164</td>\n",
              "    </tr>\n",
              "    <tr>\n",
              "      <th>sleep_duration</th>\n",
              "      <td>7.152308</td>\n",
              "      <td>7.014925</td>\n",
              "    </tr>\n",
              "    <tr>\n",
              "      <th>quality_of_sleep</th>\n",
              "      <td>7.446154</td>\n",
              "      <td>6.865672</td>\n",
              "    </tr>\n",
              "    <tr>\n",
              "      <th>physical_activity_level</th>\n",
              "      <td>59.061538</td>\n",
              "      <td>57.746269</td>\n",
              "    </tr>\n",
              "    <tr>\n",
              "      <th>stress_level</th>\n",
              "      <td>4.969231</td>\n",
              "      <td>6.089552</td>\n",
              "    </tr>\n",
              "    <tr>\n",
              "      <th>heart_rate</th>\n",
              "      <td>70.507692</td>\n",
              "      <td>71.880597</td>\n",
              "    </tr>\n",
              "    <tr>\n",
              "      <th>daily_steps</th>\n",
              "      <td>6707.692308</td>\n",
              "      <td>6570.149254</td>\n",
              "    </tr>\n",
              "    <tr>\n",
              "      <th>blood_pressure_upper</th>\n",
              "      <td>129.938462</td>\n",
              "      <td>126.835821</td>\n",
              "    </tr>\n",
              "    <tr>\n",
              "      <th>blood_pressure_lower</th>\n",
              "      <td>86.123077</td>\n",
              "      <td>83.000000</td>\n",
              "    </tr>\n",
              "  </tbody>\n",
              "</table>\n",
              "</div>"
            ],
            "text/plain": [
              "gender                        Female         Male\n",
              "age                        45.830769    36.567164\n",
              "sleep_duration              7.152308     7.014925\n",
              "quality_of_sleep            7.446154     6.865672\n",
              "physical_activity_level    59.061538    57.746269\n",
              "stress_level                4.969231     6.089552\n",
              "heart_rate                 70.507692    71.880597\n",
              "daily_steps              6707.692308  6570.149254\n",
              "blood_pressure_upper      129.938462   126.835821\n",
              "blood_pressure_lower       86.123077    83.000000"
            ]
          },
          "metadata": {},
          "output_type": "display_data"
        },
        {
          "name": "stdout",
          "output_type": "stream",
          "text": [
            "\n",
            "--------------------occupation--------------------\n"
          ]
        },
        {
          "data": {
            "text/html": [
              "<div>\n",
              "<style scoped>\n",
              "    .dataframe tbody tr th:only-of-type {\n",
              "        vertical-align: middle;\n",
              "    }\n",
              "\n",
              "    .dataframe tbody tr th {\n",
              "        vertical-align: top;\n",
              "    }\n",
              "\n",
              "    .dataframe thead th {\n",
              "        text-align: right;\n",
              "    }\n",
              "</style>\n",
              "<table border=\"1\" class=\"dataframe\">\n",
              "  <thead>\n",
              "    <tr style=\"text-align: right;\">\n",
              "      <th>occupation</th>\n",
              "      <th>Accountant</th>\n",
              "      <th>Doctor</th>\n",
              "      <th>Engineer</th>\n",
              "      <th>Lawyer</th>\n",
              "      <th>Manager</th>\n",
              "      <th>Nurse</th>\n",
              "      <th>Sales Representative</th>\n",
              "      <th>Salesperson</th>\n",
              "      <th>Scientist</th>\n",
              "      <th>Software Engineer</th>\n",
              "      <th>Teacher</th>\n",
              "    </tr>\n",
              "  </thead>\n",
              "  <tbody>\n",
              "    <tr>\n",
              "      <th>age</th>\n",
              "      <td>39.363636</td>\n",
              "      <td>33.291667</td>\n",
              "      <td>45.181818</td>\n",
              "      <td>39.133333</td>\n",
              "      <td>45.0</td>\n",
              "      <td>48.241379</td>\n",
              "      <td>28.0</td>\n",
              "      <td>43.333333</td>\n",
              "      <td>33.5</td>\n",
              "      <td>30.000000</td>\n",
              "      <td>39.800000</td>\n",
              "    </tr>\n",
              "    <tr>\n",
              "      <th>sleep_duration</th>\n",
              "      <td>7.136364</td>\n",
              "      <td>7.050000</td>\n",
              "      <td>7.800000</td>\n",
              "      <td>7.380000</td>\n",
              "      <td>6.9</td>\n",
              "      <td>6.965517</td>\n",
              "      <td>5.9</td>\n",
              "      <td>6.422222</td>\n",
              "      <td>6.0</td>\n",
              "      <td>6.500000</td>\n",
              "      <td>6.720000</td>\n",
              "    </tr>\n",
              "    <tr>\n",
              "      <th>quality_of_sleep</th>\n",
              "      <td>7.909091</td>\n",
              "      <td>6.750000</td>\n",
              "      <td>8.136364</td>\n",
              "      <td>7.733333</td>\n",
              "      <td>7.0</td>\n",
              "      <td>7.068966</td>\n",
              "      <td>4.0</td>\n",
              "      <td>6.000000</td>\n",
              "      <td>5.0</td>\n",
              "      <td>6.000000</td>\n",
              "      <td>6.800000</td>\n",
              "    </tr>\n",
              "    <tr>\n",
              "      <th>physical_activity_level</th>\n",
              "      <td>57.727273</td>\n",
              "      <td>58.125000</td>\n",
              "      <td>51.909091</td>\n",
              "      <td>69.000000</td>\n",
              "      <td>55.0</td>\n",
              "      <td>73.172414</td>\n",
              "      <td>30.0</td>\n",
              "      <td>45.000000</td>\n",
              "      <td>41.0</td>\n",
              "      <td>44.000000</td>\n",
              "      <td>45.000000</td>\n",
              "    </tr>\n",
              "    <tr>\n",
              "      <th>stress_level</th>\n",
              "      <td>4.818182</td>\n",
              "      <td>6.541667</td>\n",
              "      <td>4.227273</td>\n",
              "      <td>5.133333</td>\n",
              "      <td>5.0</td>\n",
              "      <td>5.758621</td>\n",
              "      <td>8.0</td>\n",
              "      <td>7.000000</td>\n",
              "      <td>7.0</td>\n",
              "      <td>6.333333</td>\n",
              "      <td>5.000000</td>\n",
              "    </tr>\n",
              "    <tr>\n",
              "      <th>heart_rate</th>\n",
              "      <td>69.090909</td>\n",
              "      <td>71.708333</td>\n",
              "      <td>68.181818</td>\n",
              "      <td>71.400000</td>\n",
              "      <td>75.0</td>\n",
              "      <td>72.862069</td>\n",
              "      <td>85.0</td>\n",
              "      <td>72.000000</td>\n",
              "      <td>78.5</td>\n",
              "      <td>77.333333</td>\n",
              "      <td>69.133333</td>\n",
              "    </tr>\n",
              "    <tr>\n",
              "      <th>daily_steps</th>\n",
              "      <td>6890.909091</td>\n",
              "      <td>7050.000000</td>\n",
              "      <td>5945.454545</td>\n",
              "      <td>7073.333333</td>\n",
              "      <td>5500.0</td>\n",
              "      <td>7558.620690</td>\n",
              "      <td>3000.0</td>\n",
              "      <td>6000.000000</td>\n",
              "      <td>5350.0</td>\n",
              "      <td>5066.666667</td>\n",
              "      <td>5780.000000</td>\n",
              "    </tr>\n",
              "    <tr>\n",
              "      <th>blood_pressure_upper</th>\n",
              "      <td>118.363636</td>\n",
              "      <td>123.083333</td>\n",
              "      <td>125.318182</td>\n",
              "      <td>130.200000</td>\n",
              "      <td>125.0</td>\n",
              "      <td>136.275862</td>\n",
              "      <td>140.0</td>\n",
              "      <td>130.000000</td>\n",
              "      <td>129.5</td>\n",
              "      <td>128.666667</td>\n",
              "      <td>129.733333</td>\n",
              "    </tr>\n",
              "    <tr>\n",
              "      <th>blood_pressure_lower</th>\n",
              "      <td>77.363636</td>\n",
              "      <td>80.750000</td>\n",
              "      <td>81.227273</td>\n",
              "      <td>85.200000</td>\n",
              "      <td>82.0</td>\n",
              "      <td>91.793103</td>\n",
              "      <td>90.0</td>\n",
              "      <td>85.000000</td>\n",
              "      <td>85.5</td>\n",
              "      <td>84.333333</td>\n",
              "      <td>85.466667</td>\n",
              "    </tr>\n",
              "  </tbody>\n",
              "</table>\n",
              "</div>"
            ],
            "text/plain": [
              "occupation                Accountant       Doctor     Engineer       Lawyer  \\\n",
              "age                        39.363636    33.291667    45.181818    39.133333   \n",
              "sleep_duration              7.136364     7.050000     7.800000     7.380000   \n",
              "quality_of_sleep            7.909091     6.750000     8.136364     7.733333   \n",
              "physical_activity_level    57.727273    58.125000    51.909091    69.000000   \n",
              "stress_level                4.818182     6.541667     4.227273     5.133333   \n",
              "heart_rate                 69.090909    71.708333    68.181818    71.400000   \n",
              "daily_steps              6890.909091  7050.000000  5945.454545  7073.333333   \n",
              "blood_pressure_upper      118.363636   123.083333   125.318182   130.200000   \n",
              "blood_pressure_lower       77.363636    80.750000    81.227273    85.200000   \n",
              "\n",
              "occupation               Manager        Nurse  Sales Representative  \\\n",
              "age                         45.0    48.241379                  28.0   \n",
              "sleep_duration               6.9     6.965517                   5.9   \n",
              "quality_of_sleep             7.0     7.068966                   4.0   \n",
              "physical_activity_level     55.0    73.172414                  30.0   \n",
              "stress_level                 5.0     5.758621                   8.0   \n",
              "heart_rate                  75.0    72.862069                  85.0   \n",
              "daily_steps               5500.0  7558.620690                3000.0   \n",
              "blood_pressure_upper       125.0   136.275862                 140.0   \n",
              "blood_pressure_lower        82.0    91.793103                  90.0   \n",
              "\n",
              "occupation               Salesperson  Scientist  Software Engineer  \\\n",
              "age                        43.333333       33.5          30.000000   \n",
              "sleep_duration              6.422222        6.0           6.500000   \n",
              "quality_of_sleep            6.000000        5.0           6.000000   \n",
              "physical_activity_level    45.000000       41.0          44.000000   \n",
              "stress_level                7.000000        7.0           6.333333   \n",
              "heart_rate                 72.000000       78.5          77.333333   \n",
              "daily_steps              6000.000000     5350.0        5066.666667   \n",
              "blood_pressure_upper      130.000000      129.5         128.666667   \n",
              "blood_pressure_lower       85.000000       85.5          84.333333   \n",
              "\n",
              "occupation                   Teacher  \n",
              "age                        39.800000  \n",
              "sleep_duration              6.720000  \n",
              "quality_of_sleep            6.800000  \n",
              "physical_activity_level    45.000000  \n",
              "stress_level                5.000000  \n",
              "heart_rate                 69.133333  \n",
              "daily_steps              5780.000000  \n",
              "blood_pressure_upper      129.733333  \n",
              "blood_pressure_lower       85.466667  "
            ]
          },
          "metadata": {},
          "output_type": "display_data"
        },
        {
          "name": "stdout",
          "output_type": "stream",
          "text": [
            "\n",
            "--------------------bmi_category--------------------\n"
          ]
        },
        {
          "data": {
            "text/html": [
              "<div>\n",
              "<style scoped>\n",
              "    .dataframe tbody tr th:only-of-type {\n",
              "        vertical-align: middle;\n",
              "    }\n",
              "\n",
              "    .dataframe tbody tr th {\n",
              "        vertical-align: top;\n",
              "    }\n",
              "\n",
              "    .dataframe thead th {\n",
              "        text-align: right;\n",
              "    }\n",
              "</style>\n",
              "<table border=\"1\" class=\"dataframe\">\n",
              "  <thead>\n",
              "    <tr style=\"text-align: right;\">\n",
              "      <th>bmi_category</th>\n",
              "      <th>Normal</th>\n",
              "      <th>Overweight</th>\n",
              "      <th>Obese</th>\n",
              "    </tr>\n",
              "  </thead>\n",
              "  <tbody>\n",
              "    <tr>\n",
              "      <th>age</th>\n",
              "      <td>37.698630</td>\n",
              "      <td>46.576923</td>\n",
              "      <td>36.428571</td>\n",
              "    </tr>\n",
              "    <tr>\n",
              "      <th>sleep_duration</th>\n",
              "      <td>7.342466</td>\n",
              "      <td>6.742308</td>\n",
              "      <td>6.900000</td>\n",
              "    </tr>\n",
              "    <tr>\n",
              "      <th>quality_of_sleep</th>\n",
              "      <td>7.506849</td>\n",
              "      <td>6.769231</td>\n",
              "      <td>6.285714</td>\n",
              "    </tr>\n",
              "    <tr>\n",
              "      <th>physical_activity_level</th>\n",
              "      <td>57.698630</td>\n",
              "      <td>60.115385</td>\n",
              "      <td>52.857143</td>\n",
              "    </tr>\n",
              "    <tr>\n",
              "      <th>stress_level</th>\n",
              "      <td>5.246575</td>\n",
              "      <td>5.903846</td>\n",
              "      <td>5.857143</td>\n",
              "    </tr>\n",
              "    <tr>\n",
              "      <th>heart_rate</th>\n",
              "      <td>69.506849</td>\n",
              "      <td>71.846154</td>\n",
              "      <td>84.142857</td>\n",
              "    </tr>\n",
              "    <tr>\n",
              "      <th>daily_steps</th>\n",
              "      <td>6853.424658</td>\n",
              "      <td>6780.769231</td>\n",
              "      <td>3328.571429</td>\n",
              "    </tr>\n",
              "    <tr>\n",
              "      <th>blood_pressure_upper</th>\n",
              "      <td>123.246575</td>\n",
              "      <td>134.153846</td>\n",
              "      <td>138.714286</td>\n",
              "    </tr>\n",
              "    <tr>\n",
              "      <th>blood_pressure_lower</th>\n",
              "      <td>80.547945</td>\n",
              "      <td>89.423077</td>\n",
              "      <td>89.857143</td>\n",
              "    </tr>\n",
              "  </tbody>\n",
              "</table>\n",
              "</div>"
            ],
            "text/plain": [
              "bmi_category                  Normal   Overweight        Obese\n",
              "age                        37.698630    46.576923    36.428571\n",
              "sleep_duration              7.342466     6.742308     6.900000\n",
              "quality_of_sleep            7.506849     6.769231     6.285714\n",
              "physical_activity_level    57.698630    60.115385    52.857143\n",
              "stress_level                5.246575     5.903846     5.857143\n",
              "heart_rate                 69.506849    71.846154    84.142857\n",
              "daily_steps              6853.424658  6780.769231  3328.571429\n",
              "blood_pressure_upper      123.246575   134.153846   138.714286\n",
              "blood_pressure_lower       80.547945    89.423077    89.857143"
            ]
          },
          "metadata": {},
          "output_type": "display_data"
        },
        {
          "name": "stdout",
          "output_type": "stream",
          "text": [
            "\n",
            "--------------------sleep_disorder--------------------\n"
          ]
        },
        {
          "data": {
            "text/html": [
              "<div>\n",
              "<style scoped>\n",
              "    .dataframe tbody tr th:only-of-type {\n",
              "        vertical-align: middle;\n",
              "    }\n",
              "\n",
              "    .dataframe tbody tr th {\n",
              "        vertical-align: top;\n",
              "    }\n",
              "\n",
              "    .dataframe thead th {\n",
              "        text-align: right;\n",
              "    }\n",
              "</style>\n",
              "<table border=\"1\" class=\"dataframe\">\n",
              "  <thead>\n",
              "    <tr style=\"text-align: right;\">\n",
              "      <th>sleep_disorder</th>\n",
              "      <th>Insomnia</th>\n",
              "      <th>No Issue</th>\n",
              "      <th>Sleep Apnea</th>\n",
              "    </tr>\n",
              "  </thead>\n",
              "  <tbody>\n",
              "    <tr>\n",
              "      <th>age</th>\n",
              "      <td>41.620690</td>\n",
              "      <td>39.452055</td>\n",
              "      <td>44.733333</td>\n",
              "    </tr>\n",
              "    <tr>\n",
              "      <th>sleep_duration</th>\n",
              "      <td>6.679310</td>\n",
              "      <td>7.300000</td>\n",
              "      <td>6.943333</td>\n",
              "    </tr>\n",
              "    <tr>\n",
              "      <th>quality_of_sleep</th>\n",
              "      <td>6.517241</td>\n",
              "      <td>7.520548</td>\n",
              "      <td>6.866667</td>\n",
              "    </tr>\n",
              "    <tr>\n",
              "      <th>physical_activity_level</th>\n",
              "      <td>48.103448</td>\n",
              "      <td>58.712329</td>\n",
              "      <td>67.566667</td>\n",
              "    </tr>\n",
              "    <tr>\n",
              "      <th>stress_level</th>\n",
              "      <td>6.034483</td>\n",
              "      <td>5.178082</td>\n",
              "      <td>5.933333</td>\n",
              "    </tr>\n",
              "    <tr>\n",
              "      <th>heart_rate</th>\n",
              "      <td>72.206897</td>\n",
              "      <td>69.547945</td>\n",
              "      <td>74.266667</td>\n",
              "    </tr>\n",
              "    <tr>\n",
              "      <th>daily_steps</th>\n",
              "      <td>5755.172414</td>\n",
              "      <td>6861.643836</td>\n",
              "      <td>6946.666667</td>\n",
              "    </tr>\n",
              "    <tr>\n",
              "      <th>blood_pressure_upper</th>\n",
              "      <td>131.724138</td>\n",
              "      <td>124.356164</td>\n",
              "      <td>134.866667</td>\n",
              "    </tr>\n",
              "    <tr>\n",
              "      <th>blood_pressure_lower</th>\n",
              "      <td>86.413793</td>\n",
              "      <td>81.547945</td>\n",
              "      <td>90.000000</td>\n",
              "    </tr>\n",
              "  </tbody>\n",
              "</table>\n",
              "</div>"
            ],
            "text/plain": [
              "sleep_disorder              Insomnia     No Issue  Sleep Apnea\n",
              "age                        41.620690    39.452055    44.733333\n",
              "sleep_duration              6.679310     7.300000     6.943333\n",
              "quality_of_sleep            6.517241     7.520548     6.866667\n",
              "physical_activity_level    48.103448    58.712329    67.566667\n",
              "stress_level                6.034483     5.178082     5.933333\n",
              "heart_rate                 72.206897    69.547945    74.266667\n",
              "daily_steps              5755.172414  6861.643836  6946.666667\n",
              "blood_pressure_upper      131.724138   124.356164   134.866667\n",
              "blood_pressure_lower       86.413793    81.547945    90.000000"
            ]
          },
          "metadata": {},
          "output_type": "display_data"
        },
        {
          "name": "stdout",
          "output_type": "stream",
          "text": [
            "\n",
            "--------------------blood_pressure_category--------------------\n"
          ]
        },
        {
          "data": {
            "text/html": [
              "<div>\n",
              "<style scoped>\n",
              "    .dataframe tbody tr th:only-of-type {\n",
              "        vertical-align: middle;\n",
              "    }\n",
              "\n",
              "    .dataframe tbody tr th {\n",
              "        vertical-align: top;\n",
              "    }\n",
              "\n",
              "    .dataframe thead th {\n",
              "        text-align: right;\n",
              "    }\n",
              "</style>\n",
              "<table border=\"1\" class=\"dataframe\">\n",
              "  <thead>\n",
              "    <tr style=\"text-align: right;\">\n",
              "      <th>blood_pressure_category</th>\n",
              "      <th>Normal</th>\n",
              "      <th>Elevated</th>\n",
              "      <th>Hypertension Stage 1</th>\n",
              "      <th>Hypertension Stage 2</th>\n",
              "    </tr>\n",
              "  </thead>\n",
              "  <tbody>\n",
              "    <tr>\n",
              "      <th>age</th>\n",
              "      <td>37.800000</td>\n",
              "      <td>41.0</td>\n",
              "      <td>39.153846</td>\n",
              "      <td>50.32</td>\n",
              "    </tr>\n",
              "    <tr>\n",
              "      <th>sleep_duration</th>\n",
              "      <td>7.326667</td>\n",
              "      <td>7.3</td>\n",
              "      <td>7.084615</td>\n",
              "      <td>6.92</td>\n",
              "    </tr>\n",
              "    <tr>\n",
              "      <th>quality_of_sleep</th>\n",
              "      <td>8.000000</td>\n",
              "      <td>8.0</td>\n",
              "      <td>7.021978</td>\n",
              "      <td>7.08</td>\n",
              "    </tr>\n",
              "    <tr>\n",
              "      <th>physical_activity_level</th>\n",
              "      <td>62.466667</td>\n",
              "      <td>70.0</td>\n",
              "      <td>52.703297</td>\n",
              "      <td>76.20</td>\n",
              "    </tr>\n",
              "    <tr>\n",
              "      <th>stress_level</th>\n",
              "      <td>4.333333</td>\n",
              "      <td>6.0</td>\n",
              "      <td>5.637363</td>\n",
              "      <td>5.88</td>\n",
              "    </tr>\n",
              "    <tr>\n",
              "      <th>heart_rate</th>\n",
              "      <td>68.200000</td>\n",
              "      <td>72.0</td>\n",
              "      <td>70.989011</td>\n",
              "      <td>73.76</td>\n",
              "    </tr>\n",
              "    <tr>\n",
              "      <th>daily_steps</th>\n",
              "      <td>7226.666667</td>\n",
              "      <td>6200.0</td>\n",
              "      <td>6270.329670</td>\n",
              "      <td>7640.00</td>\n",
              "    </tr>\n",
              "    <tr>\n",
              "      <th>blood_pressure_upper</th>\n",
              "      <td>115.933333</td>\n",
              "      <td>121.0</td>\n",
              "      <td>127.274725</td>\n",
              "      <td>140.08</td>\n",
              "    </tr>\n",
              "    <tr>\n",
              "      <th>blood_pressure_lower</th>\n",
              "      <td>75.533333</td>\n",
              "      <td>79.0</td>\n",
              "      <td>83.406593</td>\n",
              "      <td>94.28</td>\n",
              "    </tr>\n",
              "  </tbody>\n",
              "</table>\n",
              "</div>"
            ],
            "text/plain": [
              "blood_pressure_category       Normal  Elevated  Hypertension Stage 1  \\\n",
              "age                        37.800000      41.0             39.153846   \n",
              "sleep_duration              7.326667       7.3              7.084615   \n",
              "quality_of_sleep            8.000000       8.0              7.021978   \n",
              "physical_activity_level    62.466667      70.0             52.703297   \n",
              "stress_level                4.333333       6.0              5.637363   \n",
              "heart_rate                 68.200000      72.0             70.989011   \n",
              "daily_steps              7226.666667    6200.0           6270.329670   \n",
              "blood_pressure_upper      115.933333     121.0            127.274725   \n",
              "blood_pressure_lower       75.533333      79.0             83.406593   \n",
              "\n",
              "blood_pressure_category  Hypertension Stage 2  \n",
              "age                                     50.32  \n",
              "sleep_duration                           6.92  \n",
              "quality_of_sleep                         7.08  \n",
              "physical_activity_level                 76.20  \n",
              "stress_level                             5.88  \n",
              "heart_rate                              73.76  \n",
              "daily_steps                           7640.00  \n",
              "blood_pressure_upper                   140.08  \n",
              "blood_pressure_lower                    94.28  "
            ]
          },
          "metadata": {},
          "output_type": "display_data"
        },
        {
          "name": "stdout",
          "output_type": "stream",
          "text": [
            "\n"
          ]
        }
      ],
      "source": [
        "for col in categorical_columns:\n",
        "  print(f'{\"-\"*20}{col}{\"-\"*20}')\n",
        "  groupby_mean(df_eda, col, 'number')\n",
        "  print()"
      ]
    },
    {
      "cell_type": "markdown",
      "metadata": {
        "id": "bAByC_XXraKY"
      },
      "source": [
        "**Insight:**\n",
        "- Statistik berdasarkan jenis kelamin:\n",
        "  - Tidak ada perbedaan yang signifikan.\n",
        "  - Wanita memiliki kualitas tidur yang sedikit lebih baik dan lebih aktif bergerak dibandingkan pria.\n",
        "  - Pria nampaknya sedikit lebih stress dibandingkan wanita.\n",
        "- Statistik berdasarkan pekerjaan:\n",
        "  - Engineer menjadi pekerjaan dengan durasi dan kualitas tidur paling baik, sedangkan Sales Representative sebaliknya.\n",
        "  - Engineer juga menjadi pekerjaan dengan stress level terkecil, sedangkan Sales Representative sebaliknya.\n",
        "- Statistik berdasarkan BMI:\n",
        "  - Mereka yang obesitas memiliki kualitas tidur terburuk, detak jantung yang lebih tinggi, dan lebih mageran (langkahnya lebih sedikit).\n",
        "- Statistik berdasarkan gangguan tidur:\n",
        "  - Mereka yang mengidap gangguan tidur cenderung lebih stres dan kualitas tidurnya lebih buruk dari mereka yang tidak mengidap gangguan tidur.\n",
        "- Statistik berdasarkan tekanan darah:\n",
        "  - Mereka yang bertekanan darah tinggi rata-rata berusia 40+."
      ]
    },
    {
      "cell_type": "code",
      "execution_count": 33,
      "metadata": {
        "colab": {
          "base_uri": "https://localhost:8080/",
          "height": 607
        },
        "id": "SXE_UX___1tr",
        "outputId": "658ce464-6b0d-4b99-d369-ade85fe2474f"
      },
      "outputs": [
        {
          "data": {
            "image/png": "[encoded data removed]",
            "text/plain": [
              "<Figure size 1200x600 with 3 Axes>"
            ]
          },
          "metadata": {},
          "output_type": "display_data"
        }
      ],
      "source": [
        "fig, axes = plt.subplots(1, 3, figsize=(12, 6), sharey=True)\n",
        "\n",
        "pairs = [(filtered_categorical_columns[i], filtered_categorical_columns[j])\n",
        "         for i in range(len(filtered_categorical_columns))\n",
        "         for j in range(i + 1, len(filtered_categorical_columns))]\n",
        "\n",
        "for subplot_index, (col1, col2) in enumerate(pairs[:3]):\n",
        "    ax = axes[subplot_index]\n",
        "    count_data = sns.countplot(x=col1, hue=col2, data=df_eda, ax=ax)\n",
        "    ax.set_title(f'{col1} vs {col2}')\n",
        "\n",
        "for p in count_data.patches:\n",
        "    if p.get_height() > 0:\n",
        "        ax.annotate(int(p.get_height()),\n",
        "                    (p.get_x() + p.get_width() / 2., p.get_height()),\n",
        "                    ha='center', va='bottom')\n",
        "\n",
        "\n",
        "plt.tight_layout()\n",
        "plt.show()"
      ]
    },
    {
      "cell_type": "markdown",
      "metadata": {
        "id": "TZJ8KOK8rbLi"
      },
      "source": [
        "**Insight:**\n",
        "- Wanita lebih banyak yang kelebihan berat badan dibandingkan pria, tetapi prialah yang cenderung mengalami obesitas.\n",
        "- Proporsi antara pria dan wanita yang mengalami Insomnia tidak jauh berbeda dan jumlah wanita lebih banyak yang mengalami Sleep Apnea dibandingkan pria.\n",
        "- Gangguan tidur lebih banyak terjadi kepada mereka yang memiliki kelebihan berat badan."
      ]
    },
    {
      "cell_type": "code",
      "execution_count": 34,
      "metadata": {
        "colab": {
          "base_uri": "https://localhost:8080/",
          "height": 607
        },
        "id": "AHDxsDPVv4vg",
        "outputId": "93ea6cd2-2afa-44e2-b34e-3b4a9f44b9e4"
      },
      "outputs": [
        {
          "data": {
            "image/png": "[encoded data removed]",
            "text/plain": [
              "<Figure size 1500x600 with 3 Axes>"
            ]
          },
          "metadata": {},
          "output_type": "display_data"
        }
      ],
      "source": [
        "fig, axes = plt.subplots(1, 3, figsize=(15, 6), sharey=True)\n",
        "for i, col in enumerate(filtered_categorical_columns[:3]):\n",
        "    count_data = sns.countplot(data=df_clean, hue='blood_pressure_category', x=col, ax=axes[i])\n",
        "\n",
        "    for p in count_data.patches:\n",
        "        if p.get_height() > 0 : #check for data that have no value\n",
        "            axes[i].annotate(f'{int(p.get_height())}', (p.get_x() + p.get_width() / 2, p.get_height()),\n",
        "                            ha='center', va='bottom', xytext=(0, 2), textcoords='offset points')\n",
        "plt.tight_layout()\n",
        "plt.show()"
      ]
    },
    {
      "cell_type": "markdown",
      "metadata": {
        "id": "-yhqGcs4zZWS"
      },
      "source": [
        "**Insight:**\n",
        "- Pria lebih condong mengidap hipertensi tahap 1 dan wanita mengidap hipertensi tahap 2.\n",
        "- Mereka yang memiliki kelebihan berat badan condong mengidap hipertensi tahap 2.\n",
        "- Mereka yang mengalami gangguan tidur juga condong mengidap hipertensi tahap 2."
      ]
    },
    {
      "cell_type": "markdown",
      "metadata": {
        "id": "-nBXCc8CJSII"
      },
      "source": [
        "### Multivariate Analysis"
      ]
    },
    {
      "cell_type": "code",
      "execution_count": null,
      "metadata": {
        "colab": {
          "base_uri": "https://localhost:8080/",
          "height": 1000
        },
        "id": "J4yaL1zjKI2M",
        "outputId": "2d378b74-7e28-4b77-df60-eb6ceba62d64"
      },
      "outputs": [
        {
          "data": {
            "image/png": "[encoded data removed]",
            "text/plain": [
              "<Figure size 1600x1000 with 2 Axes>"
            ]
          },
          "metadata": {},
          "output_type": "display_data"
        }
      ],
      "source": [
        "le = LabelEncoder()\n",
        "# Buat dictionary encoder\n",
        "encoders = {}\n",
        "\n",
        "for col in categorical_columns:\n",
        "    le = LabelEncoder()\n",
        "    df_eda[col] = le.fit_transform(df_eda[col])\n",
        "    encoders[col] = le\n",
        "\n",
        "\n",
        "correlation_matrix = df_eda.corr()\n",
        "mask = np.triu(np.ones_like(correlation_matrix, dtype=bool))\n",
        "\n",
        "plt.figure(figsize=(16, 10))\n",
        "sns.heatmap(correlation_matrix, annot=True, cmap='coolwarm', fmt='.2f', mask=mask, vmin=-1, vmax=1)\n",
        "plt.title('Correlation Matrix of Features')\n",
        "plt.show()"
      ]
    },
    {
      "cell_type": "markdown",
      "metadata": {
        "id": "o-BOP5j2uhGw"
      },
      "source": [
        "**Insight:**\n",
        "- Semakin lama durasi tidurnya maka semakin berkualitas tidurnya (hubungan kuat positif).\n",
        "- Semakin lama durasi tidurnya maka semakin berkurang stressnya (hubungan kuat negatif).\n",
        "- Semakin tua usianya maka semakin berkurang stressnya (hubungan lemah positif).\n",
        "- Ada hubungan positif yang cukup kuat antara kategori BMI dengan pekerjaan dan tekanan darah.\n",
        "- Ada hubungan negatif yang lemah antara kategori tekanan darah dengan jenis kelamin."
      ]
    },
    {
      "cell_type": "markdown",
      "metadata": {
        "id": "uZxZz18BS-zq"
      },
      "source": [
        "## Visualization"
      ]
    },
    {
      "cell_type": "markdown",
      "metadata": {
        "id": "KT-7KfbP7tdL"
      },
      "source": [
        "### Apa saja jenis pekerjaan yang dilakukan oleh individu dalam kelompok umur yang memiliki langkah harian terendah dibandingkan dengan mereka yang berada dalam kelompok umur dengan langkah harian tertinggi?"
      ]
    },
    {
      "cell_type": "code",
      "execution_count": null,
      "metadata": {
        "id": "1xZP-agPDlcK"
      },
      "outputs": [],
      "source": [
        "def create_age_groups(dataframe, age_column, bin_size=4):\n",
        "    \"\"\"\n",
        "    Creates age groups in the DataFrame based on dynamic bins.\n",
        "\n",
        "    Parameters:\n",
        "        dataframe (pd.DataFrame): The input DataFrame containing age data.\n",
        "        age_column (str): The column name representing age.\n",
        "        bin_size (int): The size of the age bins (default is 4).\n",
        "\n",
        "    Returns:\n",
        "        pd.DataFrame: The DataFrame with an additional column for age groups.\n",
        "    \"\"\"\n",
        "    # Determine the min and max age values\n",
        "    min_age = dataframe[age_column].min()\n",
        "    max_age = dataframe[age_column].max()\n",
        "\n",
        "    # Adjust min_age to the nearest lower multiple of bin_size\n",
        "    if min_age % bin_size != 0:\n",
        "        min_age = min_age - (min_age % bin_size)\n",
        "\n",
        "    # Adjust max_age to the nearest upper multiple of bin_size\n",
        "    if max_age % bin_size != 0:\n",
        "        max_age = max_age + (bin_size - (max_age % bin_size))\n",
        "\n",
        "    # Create dynamic bins and labels\n",
        "    bins = np.arange(min_age, max_age + bin_size, bin_size)\n",
        "    labels = [f'{bins[i]}-{bins[i+1]}' for i in range(len(bins) - 1)]\n",
        "\n",
        "    # Create age categories in DataFrame\n",
        "    dataframe['age_group'] = pd.cut(dataframe[age_column], bins=bins, labels=labels, right=False)\n",
        "    return dataframe"
      ]
    },
    {
      "cell_type": "code",
      "execution_count": null,
      "metadata": {
        "colab": {
          "base_uri": "https://localhost:8080/",
          "height": 564
        },
        "id": "8tQnwCAQTHC1",
        "outputId": "1021d869-ff67-4c64-86a4-d072cf63214a"
      },
      "outputs": [
        {
          "data": {
            "image/png": "[encoded data removed]",
            "text/plain": [
              "<Figure size 1000x600 with 1 Axes>"
            ]
          },
          "metadata": {},
          "output_type": "display_data"
        }
      ],
      "source": [
        "# Create age categories\n",
        "df_visual = create_age_groups(df_eda, 'age')\n",
        "\n",
        "# Calculate the average daily steps for each age group\n",
        "average_steps_by_age = df_visual.groupby('age_group', observed=False)['daily_steps'].mean().reset_index()\n",
        "\n",
        "# Visualize the average daily steps by age group\n",
        "plt.figure(figsize=(10, 6))\n",
        "sns.lineplot(x='age_group', y='daily_steps', data=average_steps_by_age, marker='o')\n",
        "\n",
        "for index, row in average_steps_by_age.iterrows():\n",
        "    plt.text(row['age_group'], row['daily_steps'] * 1.005, int(row[\"daily_steps\"]),\n",
        "            horizontalalignment='center', size='medium', color='black', weight='semibold')\n",
        "\n",
        "# Calculate overall mean of daily steps\n",
        "overall_mean = df_visual['daily_steps'].mean()\n",
        "\n",
        "# Add horizontal line for overall mean\n",
        "plt.axhline(y=overall_mean, color='r', linestyle='--')\n",
        "\n",
        "# Annotate the mean value on the y-axis\n",
        "plt.text(x=-0.5, y=overall_mean, s=int(overall_mean),\n",
        "        color='r', ha='right', va='center')\n",
        "\n",
        "plt.title('Average Daily Steps by Age Group')\n",
        "plt.xlabel('Age Group')\n",
        "plt.ylabel('Average Daily Steps')\n",
        "plt.show()"
      ]
    },
    {
      "cell_type": "code",
      "execution_count": 38,
      "metadata": {
        "colab": {
          "base_uri": "https://localhost:8080/",
          "height": 339
        },
        "id": "yh_xEjkOGZw7",
        "outputId": "ee5a2ae3-0d03-45ec-88e8-527d406f2786"
      },
      "outputs": [
        {
          "data": {
            "text/plain": [
              "occupation\n",
              "9    1\n",
              "Name: count, dtype: int64"
            ]
          },
          "metadata": {},
          "output_type": "display_data"
        },
        {
          "data": {
            "text/plain": [
              "occupation\n",
              "5    12\n",
              "1     2\n",
              "2     2\n",
              "Name: count, dtype: int64"
            ]
          },
          "metadata": {},
          "output_type": "display_data"
        }
      ],
      "source": [
        "display(df_visual[df_visual['age_group'] == '24-28']['occupation'].value_counts())\n",
        "display(df_visual[df_visual['age_group'] == '48-52']['occupation'].value_counts())"
      ]
    },
    {
      "cell_type": "markdown",
      "metadata": {
        "id": "-IAzJStSrwyi"
      },
      "source": [
        "**Insight:**\n",
        "- Terlihat kelompok usia paling mageran atau kurang aktif bergerak itu yang rentang usianya 24-28 tahun.\n",
        "- Kelompok usia paling aktif bergerak itu yang rentang usianya 48-52 tahun."
      ]
    },
    {
      "cell_type": "markdown",
      "metadata": {
        "id": "bVlPRFsh7uBW"
      },
      "source": [
        "### Apa saja jenis pekerjaan yang dilakukan oleh individu dalam kelompok umur yang memiliki rata-rata waktu tidur lebih dari rata-rata waktu tidur populasi?"
      ]
    },
    {
      "cell_type": "code",
      "execution_count": null,
      "metadata": {
        "colab": {
          "base_uri": "https://localhost:8080/",
          "height": 564
        },
        "id": "23bd2PMe7uOq",
        "outputId": "ed8c4e7b-facc-4fa3-f753-e4b43c2136d5"
      },
      "outputs": [
        {
          "data": {
            "image/png": "[encoded data removed]",
            "text/plain": [
              "<Figure size 1000x600 with 1 Axes>"
            ]
          },
          "metadata": {},
          "output_type": "display_data"
        }
      ],
      "source": [
        "# Calculate the average daily sleep_duration for each age group\n",
        "average_sleep_duration_by_age = df_visual.groupby('age_group', observed=False)['sleep_duration'].mean().reset_index()\n",
        "\n",
        "# Visualize the average daily sleep_duration by age group\n",
        "plt.figure(figsize=(10, 6))\n",
        "sns.lineplot(x='age_group', y='sleep_duration', data=average_sleep_duration_by_age, marker='o')\n",
        "\n",
        "for index, row in average_sleep_duration_by_age.iterrows():\n",
        "    plt.text(row['age_group'], row['sleep_duration'] * 1.005, f'{row[\"sleep_duration\"]:.2f}',\n",
        "            horizontalalignment='center', size='medium', color='black', weight='semibold')\n",
        "\n",
        "# Calculate overall mean of daily steps\n",
        "overall_mean = df_visual['sleep_duration'].mean()\n",
        "\n",
        "# Add horizontal line for overall mean\n",
        "plt.axhline(y=overall_mean, color='r', linestyle='--')\n",
        "\n",
        "# Annotate the mean value on the y-axis\n",
        "plt.text(x=-0.5, y=overall_mean, s=f'{overall_mean:.2f}',\n",
        "        color='r', ha='right', va='center')\n",
        "\n",
        "plt.title('Average Sleep Duration by Age Group')\n",
        "plt.xlabel('Age Group')\n",
        "plt.ylabel('Average Sleep Duration')\n",
        "plt.show()"
      ]
    },
    {
      "cell_type": "code",
      "execution_count": 40,
      "metadata": {
        "colab": {
          "base_uri": "https://localhost:8080/",
          "height": 300
        },
        "id": "jnSgYL7OHeqs",
        "outputId": "b4fd54ff-056b-453e-c422-3dcb8fe25d26"
      },
      "outputs": [
        {
          "data": {
            "text/html": [
              "<style type=\"text/css\">\n",
              "#T_ccaca_row0_col0 {\n",
              "  background-color: #b40426;\n",
              "  color: #f1f1f1;\n",
              "}\n",
              "#T_ccaca_row1_col0 {\n",
              "  background-color: #e0654f;\n",
              "  color: #f1f1f1;\n",
              "}\n",
              "#T_ccaca_row2_col0 {\n",
              "  background-color: #f5a081;\n",
              "  color: #000000;\n",
              "}\n",
              "#T_ccaca_row3_col0 {\n",
              "  background-color: #e5d8d1;\n",
              "  color: #000000;\n",
              "}\n",
              "#T_ccaca_row4_col0 {\n",
              "  background-color: #c0d4f5;\n",
              "  color: #000000;\n",
              "}\n",
              "#T_ccaca_row5_col0 {\n",
              "  background-color: #93b5fe;\n",
              "  color: #000000;\n",
              "}\n",
              "#T_ccaca_row6_col0 {\n",
              "  background-color: #3b4cc0;\n",
              "  color: #f1f1f1;\n",
              "}\n",
              "</style>\n",
              "<table id=\"T_ccaca\">\n",
              "  <thead>\n",
              "    <tr>\n",
              "      <th class=\"blank level0\" >&nbsp;</th>\n",
              "      <th id=\"T_ccaca_level0_col0\" class=\"col_heading level0 col0\" >count</th>\n",
              "    </tr>\n",
              "    <tr>\n",
              "      <th class=\"index_name level0\" >occupation</th>\n",
              "      <th class=\"blank col0\" >&nbsp;</th>\n",
              "    </tr>\n",
              "  </thead>\n",
              "  <tbody>\n",
              "    <tr>\n",
              "      <th id=\"T_ccaca_level0_row0\" class=\"row_heading level0 row0\" >2</th>\n",
              "      <td id=\"T_ccaca_row0_col0\" class=\"data row0 col0\" >16</td>\n",
              "    </tr>\n",
              "    <tr>\n",
              "      <th id=\"T_ccaca_level0_row1\" class=\"row_heading level0 row1\" >3</th>\n",
              "      <td id=\"T_ccaca_row1_col0\" class=\"data row1 col0\" >14</td>\n",
              "    </tr>\n",
              "    <tr>\n",
              "      <th id=\"T_ccaca_level0_row2\" class=\"row_heading level0 row2\" >5</th>\n",
              "      <td id=\"T_ccaca_row2_col0\" class=\"data row2 col0\" >12</td>\n",
              "    </tr>\n",
              "    <tr>\n",
              "      <th id=\"T_ccaca_level0_row3\" class=\"row_heading level0 row3\" >0</th>\n",
              "      <td id=\"T_ccaca_row3_col0\" class=\"data row3 col0\" >9</td>\n",
              "    </tr>\n",
              "    <tr>\n",
              "      <th id=\"T_ccaca_level0_row4\" class=\"row_heading level0 row4\" >10</th>\n",
              "      <td id=\"T_ccaca_row4_col0\" class=\"data row4 col0\" >7</td>\n",
              "    </tr>\n",
              "    <tr>\n",
              "      <th id=\"T_ccaca_level0_row5\" class=\"row_heading level0 row5\" >7</th>\n",
              "      <td id=\"T_ccaca_row5_col0\" class=\"data row5 col0\" >5</td>\n",
              "    </tr>\n",
              "    <tr>\n",
              "      <th id=\"T_ccaca_level0_row6\" class=\"row_heading level0 row6\" >1</th>\n",
              "      <td id=\"T_ccaca_row6_col0\" class=\"data row6 col0\" >1</td>\n",
              "    </tr>\n",
              "  </tbody>\n",
              "</table>\n"
            ],
            "text/plain": [
              "<pandas.io.formats.style.Styler at 0x1df73e77d90>"
            ]
          },
          "execution_count": 40,
          "metadata": {},
          "output_type": "execute_result"
        }
      ],
      "source": [
        "question_two = df_visual[df_visual['age_group'].isin(['36-40', '40-44', '52-56', '56-60'])]['occupation'].value_counts()\n",
        "question_two.to_frame().style.background_gradient(cmap='coolwarm')"
      ]
    },
    {
      "cell_type": "code",
      "execution_count": 41,
      "metadata": {
        "colab": {
          "base_uri": "https://localhost:8080/",
          "height": 468
        },
        "id": "uOQu6ArIMcrm",
        "outputId": "82fb35fb-4626-4e6f-b327-333159114504"
      },
      "outputs": [
        {
          "data": {
            "image/png": "[encoded data removed]",
            "text/plain": [
              "<Figure size 800x500 with 1 Axes>"
            ]
          },
          "metadata": {},
          "output_type": "display_data"
        }
      ],
      "source": [
        "question_two.plot(kind='bar', figsize=(8, 5))\n",
        "\n",
        "for i, v in enumerate(question_two):\n",
        "    plt.text(i, v, str(v), ha='center', va='bottom')\n",
        "plt.show()"
      ]
    },
    {
      "cell_type": "markdown",
      "metadata": {
        "id": "FMlE0blar1Kf"
      },
      "source": [
        "**Insight:**\n",
        "- Kelompok usia yang rata-rata durasi tidurnya sesuai rekomendasi adalah kelompok usia 36-44 dan 52-60.\n",
        "- Dari kelompok usia yang dimaksud tersebut, kebanyakan di antaranya bekerja sebagai Engineer, Pengacara, dan Suster."
      ]
    },
    {
      "cell_type": "markdown",
      "metadata": {
        "id": "ftHirscF7vGU"
      },
      "source": [
        "### Apa kategori BMI yang paling banyak ditemukan di antara individu dengan pekerjaan di sektor kesehatan?"
      ]
    },
    {
      "cell_type": "code",
      "execution_count": 42,
      "metadata": {
        "colab": {
          "base_uri": "https://localhost:8080/",
          "height": 210
        },
        "id": "RXcW7_xF7vSl",
        "outputId": "ec4737d1-0ad7-46a7-b1b2-f40bc12d4484"
      },
      "outputs": [
        {
          "data": {
            "text/plain": [
              "bmi_category\n",
              "Normal        29\n",
              "Overweight    22\n",
              "Obese          2\n",
              "Name: count, dtype: int64"
            ]
          },
          "execution_count": 42,
          "metadata": {},
          "output_type": "execute_result"
        }
      ],
      "source": [
        "healthcare_occupations = ['Doctor', 'Nurse']\n",
        "healthcare_df = df_clean[df_clean['occupation'].isin(healthcare_occupations)]\n",
        "\n",
        "bmi_counts = healthcare_df['bmi_category'].value_counts()\n",
        "bmi_counts"
      ]
    },
    {
      "cell_type": "code",
      "execution_count": 43,
      "metadata": {
        "colab": {
          "base_uri": "https://localhost:8080/",
          "height": 531
        },
        "id": "lZ4Qo9P951iH",
        "outputId": "d444d545-972d-401f-bb76-49eb72a6f749"
      },
      "outputs": [
        {
          "data": {
            "image/png": "[encoded data removed]",
            "text/plain": [
              "<Figure size 800x500 with 1 Axes>"
            ]
          },
          "metadata": {},
          "output_type": "display_data"
        }
      ],
      "source": [
        "bmi_counts.plot(kind='bar', figsize=(8, 5))\n",
        "\n",
        "for i, v in enumerate(bmi_counts):\n",
        "    plt.text(i, v, str(v), ha='center', va='bottom')\n",
        "plt.show()"
      ]
    },
    {
      "cell_type": "code",
      "execution_count": 44,
      "metadata": {
        "colab": {
          "base_uri": "https://localhost:8080/",
          "height": 175
        },
        "id": "tM8igiUvvlQb",
        "outputId": "da833c9d-b95e-46ee-83dd-fb1ae70af58a"
      },
      "outputs": [
        {
          "data": {
            "text/html": [
              "<div>\n",
              "<style scoped>\n",
              "    .dataframe tbody tr th:only-of-type {\n",
              "        vertical-align: middle;\n",
              "    }\n",
              "\n",
              "    .dataframe tbody tr th {\n",
              "        vertical-align: top;\n",
              "    }\n",
              "\n",
              "    .dataframe thead th {\n",
              "        text-align: right;\n",
              "    }\n",
              "</style>\n",
              "<table border=\"1\" class=\"dataframe\">\n",
              "  <thead>\n",
              "    <tr style=\"text-align: right;\">\n",
              "      <th>occupation</th>\n",
              "      <th>Doctor</th>\n",
              "      <th>Nurse</th>\n",
              "    </tr>\n",
              "    <tr>\n",
              "      <th>bmi_category</th>\n",
              "      <th></th>\n",
              "      <th></th>\n",
              "    </tr>\n",
              "  </thead>\n",
              "  <tbody>\n",
              "    <tr>\n",
              "      <th>Normal</th>\n",
              "      <td>22</td>\n",
              "      <td>7</td>\n",
              "    </tr>\n",
              "    <tr>\n",
              "      <th>Overweight</th>\n",
              "      <td>0</td>\n",
              "      <td>22</td>\n",
              "    </tr>\n",
              "    <tr>\n",
              "      <th>Obese</th>\n",
              "      <td>2</td>\n",
              "      <td>0</td>\n",
              "    </tr>\n",
              "  </tbody>\n",
              "</table>\n",
              "</div>"
            ],
            "text/plain": [
              "occupation    Doctor  Nurse\n",
              "bmi_category               \n",
              "Normal            22      7\n",
              "Overweight         0     22\n",
              "Obese              2      0"
            ]
          },
          "execution_count": 44,
          "metadata": {},
          "output_type": "execute_result"
        }
      ],
      "source": [
        "healthcare_pivot = healthcare_df.pivot_table(index='bmi_category', columns='occupation', aggfunc='size', fill_value=0, observed=False)\n",
        "healthcare_pivot"
      ]
    },
    {
      "cell_type": "code",
      "execution_count": 45,
      "metadata": {
        "colab": {
          "base_uri": "https://localhost:8080/",
          "height": 507
        },
        "id": "ymU1BSki3Dnh",
        "outputId": "354c0da1-aabc-4aae-923a-23b9f21e5307"
      },
      "outputs": [
        {
          "data": {
            "image/png": "[encoded data removed]",
            "text/plain": [
              "<Figure size 800x500 with 2 Axes>"
            ]
          },
          "metadata": {},
          "output_type": "display_data"
        }
      ],
      "source": [
        "plt.figure(figsize=(8, 5))\n",
        "sns.heatmap(healthcare_pivot, annot=True, fmt='d', cmap='coolwarm')\n",
        "plt.title('Count of BMI Categories by Occupation in Healthcare')\n",
        "plt.xlabel('')\n",
        "plt.ylabel('')\n",
        "plt.xticks(rotation=45)\n",
        "plt.tight_layout()\n",
        "plt.show()"
      ]
    },
    {
      "cell_type": "markdown",
      "metadata": {
        "id": "85ZLYyrIuz9c"
      },
      "source": [
        "**Insight:**\n",
        "- Jumlah pekerja di sektor kesehatan yang memiliki berat badan berlebih mencapai 22 orang dan 2 orang mengalami obesitas.\n",
        "- Yang mengalami berat badan berlebih adalah para suster. Sedangkan yang mengalami obesitas adalah para dokter."
      ]
    },
    {
      "cell_type": "code",
      "execution_count": 47,
      "metadata": {},
      "outputs": [
        {
          "data": {
            "text/html": [
              "<div>\n",
              "<style scoped>\n",
              "    .dataframe tbody tr th:only-of-type {\n",
              "        vertical-align: middle;\n",
              "    }\n",
              "\n",
              "    .dataframe tbody tr th {\n",
              "        vertical-align: top;\n",
              "    }\n",
              "\n",
              "    .dataframe thead th {\n",
              "        text-align: right;\n",
              "    }\n",
              "</style>\n",
              "<table border=\"1\" class=\"dataframe\">\n",
              "  <thead>\n",
              "    <tr style=\"text-align: right;\">\n",
              "      <th></th>\n",
              "      <th>gender</th>\n",
              "      <th>age</th>\n",
              "      <th>occupation</th>\n",
              "      <th>sleep_duration</th>\n",
              "      <th>quality_of_sleep</th>\n",
              "      <th>physical_activity_level</th>\n",
              "      <th>stress_level</th>\n",
              "      <th>bmi_category</th>\n",
              "      <th>heart_rate</th>\n",
              "      <th>daily_steps</th>\n",
              "      <th>sleep_disorder</th>\n",
              "      <th>blood_pressure_upper</th>\n",
              "      <th>blood_pressure_lower</th>\n",
              "      <th>blood_pressure_category</th>\n",
              "    </tr>\n",
              "  </thead>\n",
              "  <tbody>\n",
              "    <tr>\n",
              "      <th>0</th>\n",
              "      <td>Male</td>\n",
              "      <td>27</td>\n",
              "      <td>Software Engineer</td>\n",
              "      <td>6.1</td>\n",
              "      <td>6</td>\n",
              "      <td>42</td>\n",
              "      <td>6</td>\n",
              "      <td>Overweight</td>\n",
              "      <td>77</td>\n",
              "      <td>4200</td>\n",
              "      <td>No Issue</td>\n",
              "      <td>126</td>\n",
              "      <td>83</td>\n",
              "      <td>Hypertension Stage 1</td>\n",
              "    </tr>\n",
              "    <tr>\n",
              "      <th>1</th>\n",
              "      <td>Male</td>\n",
              "      <td>28</td>\n",
              "      <td>Doctor</td>\n",
              "      <td>6.2</td>\n",
              "      <td>6</td>\n",
              "      <td>60</td>\n",
              "      <td>8</td>\n",
              "      <td>Normal</td>\n",
              "      <td>75</td>\n",
              "      <td>10000</td>\n",
              "      <td>No Issue</td>\n",
              "      <td>125</td>\n",
              "      <td>80</td>\n",
              "      <td>Hypertension Stage 1</td>\n",
              "    </tr>\n",
              "    <tr>\n",
              "      <th>3</th>\n",
              "      <td>Male</td>\n",
              "      <td>28</td>\n",
              "      <td>Sales Representative</td>\n",
              "      <td>5.9</td>\n",
              "      <td>4</td>\n",
              "      <td>30</td>\n",
              "      <td>8</td>\n",
              "      <td>Obese</td>\n",
              "      <td>85</td>\n",
              "      <td>3000</td>\n",
              "      <td>Sleep Apnea</td>\n",
              "      <td>140</td>\n",
              "      <td>90</td>\n",
              "      <td>Hypertension Stage 2</td>\n",
              "    </tr>\n",
              "    <tr>\n",
              "      <th>5</th>\n",
              "      <td>Male</td>\n",
              "      <td>28</td>\n",
              "      <td>Software Engineer</td>\n",
              "      <td>5.9</td>\n",
              "      <td>4</td>\n",
              "      <td>30</td>\n",
              "      <td>8</td>\n",
              "      <td>Obese</td>\n",
              "      <td>85</td>\n",
              "      <td>3000</td>\n",
              "      <td>Insomnia</td>\n",
              "      <td>140</td>\n",
              "      <td>90</td>\n",
              "      <td>Hypertension Stage 2</td>\n",
              "    </tr>\n",
              "    <tr>\n",
              "      <th>6</th>\n",
              "      <td>Male</td>\n",
              "      <td>29</td>\n",
              "      <td>Teacher</td>\n",
              "      <td>6.3</td>\n",
              "      <td>6</td>\n",
              "      <td>40</td>\n",
              "      <td>7</td>\n",
              "      <td>Obese</td>\n",
              "      <td>82</td>\n",
              "      <td>3500</td>\n",
              "      <td>Insomnia</td>\n",
              "      <td>140</td>\n",
              "      <td>90</td>\n",
              "      <td>Hypertension Stage 2</td>\n",
              "    </tr>\n",
              "  </tbody>\n",
              "</table>\n",
              "</div>"
            ],
            "text/plain": [
              "  gender  age            occupation  sleep_duration  quality_of_sleep  \\\n",
              "0   Male   27     Software Engineer             6.1                 6   \n",
              "1   Male   28                Doctor             6.2                 6   \n",
              "3   Male   28  Sales Representative             5.9                 4   \n",
              "5   Male   28     Software Engineer             5.9                 4   \n",
              "6   Male   29               Teacher             6.3                 6   \n",
              "\n",
              "   physical_activity_level  stress_level bmi_category  heart_rate  \\\n",
              "0                       42             6   Overweight          77   \n",
              "1                       60             8       Normal          75   \n",
              "3                       30             8        Obese          85   \n",
              "5                       30             8        Obese          85   \n",
              "6                       40             7        Obese          82   \n",
              "\n",
              "   daily_steps sleep_disorder  blood_pressure_upper  blood_pressure_lower  \\\n",
              "0         4200       No Issue                   126                    83   \n",
              "1        10000       No Issue                   125                    80   \n",
              "3         3000    Sleep Apnea                   140                    90   \n",
              "5         3000       Insomnia                   140                    90   \n",
              "6         3500       Insomnia                   140                    90   \n",
              "\n",
              "  blood_pressure_category  \n",
              "0    Hypertension Stage 1  \n",
              "1    Hypertension Stage 1  \n",
              "3    Hypertension Stage 2  \n",
              "5    Hypertension Stage 2  \n",
              "6    Hypertension Stage 2  "
            ]
          },
          "execution_count": 47,
          "metadata": {},
          "output_type": "execute_result"
        }
      ],
      "source": [
        "df_clean.head()"
      ]
    },
    {
      "cell_type": "markdown",
      "metadata": {
        "id": "dezu9DZ-7w5I"
      },
      "source": [
        "### Apa sektor pekerjaan yang memiliki proporsi tertinggi individu yang mengalami insomnia?"
      ]
    },
    {
      "cell_type": "code",
      "execution_count": null,
      "metadata": {},
      "outputs": [],
      "source": [
        "import plotly.express as px\n",
        "import plotly.io as pio\n",
        "\n",
        "# Filter for individuals with insomnia\n",
        "insomnia_df = df_clean[df_clean['sleep_disorder'] == 'Insomnia']\n",
        "\n",
        "# Count the number of individuals with insomnia by occupation\n",
        "insomnia_counts = insomnia_df['occupation'].value_counts().reset_index()\n",
        "insomnia_counts.columns = ['occupation', 'count']\n",
        "\n",
        "# Create a treemap\n",
        "fig = px.treemap(insomnia_counts,\n",
        "                path=['occupation'],\n",
        "                values='count',\n",
        "                title='Treemap of Occupations with Individuals Experiencing Insomnia')\n",
        "fig.update_traces(hovertemplate='label=%{label}<br>total=%{value}<extra></extra>')\n",
        "\n",
        "pio.renderers.default = 'browser'  # <- ganti renderer ke browser\n",
        "\n",
        "fig.show()\n"
      ]
    },
    {
      "attachments": {
        "image.png": {
          "image/png": "[encoded data removed]"
        }
      },
      "cell_type": "markdown",
      "metadata": {},
      "source": [
        "![image.png](attachment:image.png)"
      ]
    },
    {
      "cell_type": "markdown",
      "metadata": {
        "id": "YmTXCJ_Zu067"
      },
      "source": [
        "**Insight:**\n",
        "- Sektor pekerjaan yang paling banyak mengalami insomnia adalah pendidikan sebanyak 10 orang guru.\n",
        "- Kemudiaan diikuti sektor sales sebanyak 6 orang dan Engineer sebanyak 5 orang."
      ]
    },
    {
      "cell_type": "markdown",
      "metadata": {
        "id": "8HdyCOwO8-Mk"
      },
      "source": [
        "### Dari berbagai pekerjaan, yang manakah paling umum di antara individu dalam kategori \"Overweight\"?"
      ]
    },
    {
      "cell_type": "code",
      "execution_count": null,
      "metadata": {
        "colab": {
          "base_uri": "https://localhost:8080/",
          "height": 542
        },
        "id": "kaDQtnbm8_iM",
        "outputId": "f45101bf-2e4c-451f-b8fa-58403810011e"
      },
      "outputs": [],
      "source": [
        "# Filter for individuals with insomnia\n",
        "insomnia_df = df_clean[df_clean['bmi_category'] == 'Overweight']\n",
        "\n",
        "# Count the number of individuals with insomnia by occupation\n",
        "insomnia_counts = insomnia_df['occupation'].value_counts().reset_index()\n",
        "insomnia_counts.columns = ['occupation', 'count']\n",
        "\n",
        "# Create a treemap\n",
        "fig = px.treemap(insomnia_counts,\n",
        "                path=['occupation'],\n",
        "                values='count',\n",
        "                title='Treemap of Occupations with Individuals Experiencing Insomnia')\n",
        "fig.update_traces(hovertemplate='label=%{label}<br>total=%{value}<extra></extra>')\n",
        "\n",
        "pio.renderers.default = 'browser'  # <- ganti renderer ke browser\n",
        "\n",
        "fig.show()\n"
      ]
    },
    {
      "attachments": {
        "image-2.png": {
          "image/png": "[encoded data removed]"
        }
      },
      "cell_type": "markdown",
      "metadata": {},
      "source": [
        "![image-2.png](attachment:image-2.png)"
      ]
    },
    {
      "cell_type": "markdown",
      "metadata": {
        "id": "cf5EUmnS8_8N"
      },
      "source": [
        "**Insight:**\n",
        "- Pekerjaan yang individunya memiliki berat badan berlebih terbanyak adalah suster sejumlah 22 orang.\n",
        "- Kemudian diikuti oleh 11 guru dan 9 salesperson."
      ]
    },
    {
      "cell_type": "code",
      "execution_count": 67,
      "metadata": {},
      "outputs": [
        {
          "name": "stdout",
          "output_type": "stream",
          "text": [
            "<class 'pandas.core.frame.DataFrame'>\n",
            "Index: 132 entries, 0 to 366\n",
            "Data columns (total 15 columns):\n",
            " #   Column                   Non-Null Count  Dtype   \n",
            "---  ------                   --------------  -----   \n",
            " 0   gender                   132 non-null    int64   \n",
            " 1   age                      132 non-null    int64   \n",
            " 2   occupation               132 non-null    int64   \n",
            " 3   sleep_duration           132 non-null    float64 \n",
            " 4   quality_of_sleep         132 non-null    int64   \n",
            " 5   physical_activity_level  132 non-null    int64   \n",
            " 6   stress_level             132 non-null    int64   \n",
            " 7   bmi_category             132 non-null    int64   \n",
            " 8   heart_rate               132 non-null    int64   \n",
            " 9   daily_steps              132 non-null    int64   \n",
            " 10  sleep_disorder           132 non-null    int64   \n",
            " 11  blood_pressure_upper     132 non-null    int64   \n",
            " 12  blood_pressure_lower     132 non-null    int64   \n",
            " 13  blood_pressure_category  132 non-null    int64   \n",
            " 14  age_group                132 non-null    category\n",
            "dtypes: category(1), float64(1), int64(13)\n",
            "memory usage: 20.0 KB\n"
          ]
        }
      ],
      "source": [
        "df_eda.info()"
      ]
    },
    {
      "cell_type": "code",
      "execution_count": 68,
      "metadata": {},
      "outputs": [
        {
          "name": "stdout",
          "output_type": "stream",
          "text": [
            "<class 'pandas.core.frame.DataFrame'>\n",
            "Index: 132 entries, 0 to 366\n",
            "Data columns (total 15 columns):\n",
            " #   Column                   Non-Null Count  Dtype   \n",
            "---  ------                   --------------  -----   \n",
            " 0   gender                   132 non-null    int64   \n",
            " 1   age                      132 non-null    int64   \n",
            " 2   occupation               132 non-null    int64   \n",
            " 3   sleep_duration           132 non-null    float64 \n",
            " 4   quality_of_sleep         132 non-null    int64   \n",
            " 5   physical_activity_level  132 non-null    int64   \n",
            " 6   stress_level             132 non-null    int64   \n",
            " 7   bmi_category             132 non-null    int64   \n",
            " 8   heart_rate               132 non-null    int64   \n",
            " 9   daily_steps              132 non-null    int64   \n",
            " 10  sleep_disorder           132 non-null    int64   \n",
            " 11  blood_pressure_upper     132 non-null    int64   \n",
            " 12  blood_pressure_lower     132 non-null    int64   \n",
            " 13  blood_pressure_category  132 non-null    int64   \n",
            " 14  age_group                132 non-null    category\n",
            "dtypes: category(1), float64(1), int64(13)\n",
            "memory usage: 20.0 KB\n"
          ]
        }
      ],
      "source": [
        "df_visual.info()"
      ]
    },
    {
      "cell_type": "code",
      "execution_count": 69,
      "metadata": {},
      "outputs": [
        {
          "name": "stdout",
          "output_type": "stream",
          "text": [
            "  gender  age            occupation  sleep_duration  quality_of_sleep  \\\n",
            "0   Male   27     Software Engineer             6.1                 6   \n",
            "1   Male   28                Doctor             6.2                 6   \n",
            "3   Male   28  Sales Representative             5.9                 4   \n",
            "5   Male   28     Software Engineer             5.9                 4   \n",
            "6   Male   29               Teacher             6.3                 6   \n",
            "\n",
            "   physical_activity_level  stress_level bmi_category  heart_rate  \\\n",
            "0                       42             6   Overweight          77   \n",
            "1                       60             8       Normal          75   \n",
            "3                       30             8        Obese          85   \n",
            "5                       30             8        Obese          85   \n",
            "6                       40             7        Obese          82   \n",
            "\n",
            "   daily_steps sleep_disorder  blood_pressure_upper  blood_pressure_lower  \\\n",
            "0         4200       No Issue                   126                    83   \n",
            "1        10000       No Issue                   125                    80   \n",
            "3         3000    Sleep Apnea                   140                    90   \n",
            "5         3000       Insomnia                   140                    90   \n",
            "6         3500       Insomnia                   140                    90   \n",
            "\n",
            "  blood_pressure_category age_group  \n",
            "0    Hypertension Stage 1     24-28  \n",
            "1    Hypertension Stage 1     28-32  \n",
            "3    Hypertension Stage 2     28-32  \n",
            "5    Hypertension Stage 2     28-32  \n",
            "6    Hypertension Stage 2     28-32  \n"
          ]
        }
      ],
      "source": [
        "# Buat salinan agar tidak merusak data asli\n",
        "df_visual = df_eda.copy()\n",
        "\n",
        "# Kembalikan semua kolom kategorikal\n",
        "for col in encoders:\n",
        "    df_visual[col] = encoders[col].inverse_transform(df_eda[col])\n",
        "\n",
        "# Tampilkan contoh hasil\n",
        "print(df_visual.head())"
      ]
    },
    {
      "cell_type": "code",
      "execution_count": 70,
      "metadata": {},
      "outputs": [
        {
          "data": {
            "text/html": [
              "<div>\n",
              "<style scoped>\n",
              "    .dataframe tbody tr th:only-of-type {\n",
              "        vertical-align: middle;\n",
              "    }\n",
              "\n",
              "    .dataframe tbody tr th {\n",
              "        vertical-align: top;\n",
              "    }\n",
              "\n",
              "    .dataframe thead th {\n",
              "        text-align: right;\n",
              "    }\n",
              "</style>\n",
              "<table border=\"1\" class=\"dataframe\">\n",
              "  <thead>\n",
              "    <tr style=\"text-align: right;\">\n",
              "      <th></th>\n",
              "      <th>gender</th>\n",
              "      <th>age</th>\n",
              "      <th>occupation</th>\n",
              "      <th>sleep_duration</th>\n",
              "      <th>quality_of_sleep</th>\n",
              "      <th>physical_activity_level</th>\n",
              "      <th>stress_level</th>\n",
              "      <th>bmi_category</th>\n",
              "      <th>heart_rate</th>\n",
              "      <th>daily_steps</th>\n",
              "      <th>sleep_disorder</th>\n",
              "      <th>blood_pressure_upper</th>\n",
              "      <th>blood_pressure_lower</th>\n",
              "      <th>blood_pressure_category</th>\n",
              "      <th>age_group</th>\n",
              "    </tr>\n",
              "  </thead>\n",
              "  <tbody>\n",
              "    <tr>\n",
              "      <th>0</th>\n",
              "      <td>Male</td>\n",
              "      <td>27</td>\n",
              "      <td>Software Engineer</td>\n",
              "      <td>6.1</td>\n",
              "      <td>6</td>\n",
              "      <td>42</td>\n",
              "      <td>6</td>\n",
              "      <td>Overweight</td>\n",
              "      <td>77</td>\n",
              "      <td>4200</td>\n",
              "      <td>No Issue</td>\n",
              "      <td>126</td>\n",
              "      <td>83</td>\n",
              "      <td>Hypertension Stage 1</td>\n",
              "      <td>24-28</td>\n",
              "    </tr>\n",
              "    <tr>\n",
              "      <th>1</th>\n",
              "      <td>Male</td>\n",
              "      <td>28</td>\n",
              "      <td>Doctor</td>\n",
              "      <td>6.2</td>\n",
              "      <td>6</td>\n",
              "      <td>60</td>\n",
              "      <td>8</td>\n",
              "      <td>Normal</td>\n",
              "      <td>75</td>\n",
              "      <td>10000</td>\n",
              "      <td>No Issue</td>\n",
              "      <td>125</td>\n",
              "      <td>80</td>\n",
              "      <td>Hypertension Stage 1</td>\n",
              "      <td>28-32</td>\n",
              "    </tr>\n",
              "    <tr>\n",
              "      <th>3</th>\n",
              "      <td>Male</td>\n",
              "      <td>28</td>\n",
              "      <td>Sales Representative</td>\n",
              "      <td>5.9</td>\n",
              "      <td>4</td>\n",
              "      <td>30</td>\n",
              "      <td>8</td>\n",
              "      <td>Obese</td>\n",
              "      <td>85</td>\n",
              "      <td>3000</td>\n",
              "      <td>Sleep Apnea</td>\n",
              "      <td>140</td>\n",
              "      <td>90</td>\n",
              "      <td>Hypertension Stage 2</td>\n",
              "      <td>28-32</td>\n",
              "    </tr>\n",
              "    <tr>\n",
              "      <th>5</th>\n",
              "      <td>Male</td>\n",
              "      <td>28</td>\n",
              "      <td>Software Engineer</td>\n",
              "      <td>5.9</td>\n",
              "      <td>4</td>\n",
              "      <td>30</td>\n",
              "      <td>8</td>\n",
              "      <td>Obese</td>\n",
              "      <td>85</td>\n",
              "      <td>3000</td>\n",
              "      <td>Insomnia</td>\n",
              "      <td>140</td>\n",
              "      <td>90</td>\n",
              "      <td>Hypertension Stage 2</td>\n",
              "      <td>28-32</td>\n",
              "    </tr>\n",
              "    <tr>\n",
              "      <th>6</th>\n",
              "      <td>Male</td>\n",
              "      <td>29</td>\n",
              "      <td>Teacher</td>\n",
              "      <td>6.3</td>\n",
              "      <td>6</td>\n",
              "      <td>40</td>\n",
              "      <td>7</td>\n",
              "      <td>Obese</td>\n",
              "      <td>82</td>\n",
              "      <td>3500</td>\n",
              "      <td>Insomnia</td>\n",
              "      <td>140</td>\n",
              "      <td>90</td>\n",
              "      <td>Hypertension Stage 2</td>\n",
              "      <td>28-32</td>\n",
              "    </tr>\n",
              "  </tbody>\n",
              "</table>\n",
              "</div>"
            ],
            "text/plain": [
              "  gender  age            occupation  sleep_duration  quality_of_sleep  \\\n",
              "0   Male   27     Software Engineer             6.1                 6   \n",
              "1   Male   28                Doctor             6.2                 6   \n",
              "3   Male   28  Sales Representative             5.9                 4   \n",
              "5   Male   28     Software Engineer             5.9                 4   \n",
              "6   Male   29               Teacher             6.3                 6   \n",
              "\n",
              "   physical_activity_level  stress_level bmi_category  heart_rate  \\\n",
              "0                       42             6   Overweight          77   \n",
              "1                       60             8       Normal          75   \n",
              "3                       30             8        Obese          85   \n",
              "5                       30             8        Obese          85   \n",
              "6                       40             7        Obese          82   \n",
              "\n",
              "   daily_steps sleep_disorder  blood_pressure_upper  blood_pressure_lower  \\\n",
              "0         4200       No Issue                   126                    83   \n",
              "1        10000       No Issue                   125                    80   \n",
              "3         3000    Sleep Apnea                   140                    90   \n",
              "5         3000       Insomnia                   140                    90   \n",
              "6         3500       Insomnia                   140                    90   \n",
              "\n",
              "  blood_pressure_category age_group  \n",
              "0    Hypertension Stage 1     24-28  \n",
              "1    Hypertension Stage 1     28-32  \n",
              "3    Hypertension Stage 2     28-32  \n",
              "5    Hypertension Stage 2     28-32  \n",
              "6    Hypertension Stage 2     28-32  "
            ]
          },
          "execution_count": 70,
          "metadata": {},
          "output_type": "execute_result"
        }
      ],
      "source": [
        "df_visual.head()"
      ]
    },
    {
      "cell_type": "markdown",
      "metadata": {
        "id": "F9FxqmAX7Zoe"
      },
      "source": [
        "### Export Dataset Akhir\n",
        "Dataset akhir ini di-ekspor untuk digunakan sebagai dataset pada dashboard Streamlit yang dikembangkan."
      ]
    },
    {
      "cell_type": "code",
      "execution_count": 71,
      "metadata": {},
      "outputs": [],
      "source": [
        "df_visual.to_csv('sleep_health.csv', index=False)"
      ]
    }
  ],
  "metadata": {
    "colab": {
      "provenance": []
    },
    "kernelspec": {
      "display_name": "venv",
      "language": "python",
      "name": "python3"
    },
    "language_info": {
      "codemirror_mode": {
        "name": "ipython",
        "version": 3
      },
      "file_extension": ".py",
      "mimetype": "text/x-python",
      "name": "python",
      "nbconvert_exporter": "python",
      "pygments_lexer": "ipython3",
      "version": "3.11.8"
    }
  },
  "nbformat": 4,
  "nbformat_minor": 0
}
